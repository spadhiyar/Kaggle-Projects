{
 "cells": [
  {
   "cell_type": "code",
   "execution_count": 1,
   "metadata": {
    "collapsed": true
   },
   "outputs": [],
   "source": [
    "import pandas as pd\n",
    "import numpy as np\n",
    "from scipy.stats.mstats import mode\n",
    "from sklearn.preprocessing import LabelEncoder\n",
    "\n",
    "%matplotlib inline\n",
    "from matplotlib.pylab import rcParams\n",
    "rcParams['figure.figsize'] = 12, 4"
   ]
  },
  {
   "cell_type": "markdown",
   "metadata": {},
   "source": [
    "## Load the data:"
   ]
  },
  {
   "cell_type": "code",
   "execution_count": 2,
   "metadata": {
    "collapsed": true
   },
   "outputs": [],
   "source": [
    "train = pd.read_csv('data/train.csv') \n",
    "test = pd.read_csv('data/test.csv')\n",
    "event_type = pd.read_csv('data/event_type.csv')\n",
    "log_feature = pd.read_csv('data/log_feature.csv')\n",
    "resource_type = pd.read_csv('data/resource_type.csv')\n",
    "severity_type = pd.read_csv('data/severity_type.csv')"
   ]
  },
  {
   "cell_type": "code",
   "execution_count": 3,
   "metadata": {
    "collapsed": false
   },
   "outputs": [
    {
     "data": {
      "text/html": [
       "<div>\n",
       "<table border=\"1\" class=\"dataframe\">\n",
       "  <thead>\n",
       "    <tr style=\"text-align: right;\">\n",
       "      <th></th>\n",
       "      <th>id</th>\n",
       "      <th>location</th>\n",
       "      <th>fault_severity</th>\n",
       "    </tr>\n",
       "  </thead>\n",
       "  <tbody>\n",
       "    <tr>\n",
       "      <th>0</th>\n",
       "      <td>14121</td>\n",
       "      <td>location 118</td>\n",
       "      <td>1</td>\n",
       "    </tr>\n",
       "    <tr>\n",
       "      <th>1</th>\n",
       "      <td>9320</td>\n",
       "      <td>location 91</td>\n",
       "      <td>0</td>\n",
       "    </tr>\n",
       "    <tr>\n",
       "      <th>2</th>\n",
       "      <td>14394</td>\n",
       "      <td>location 152</td>\n",
       "      <td>1</td>\n",
       "    </tr>\n",
       "    <tr>\n",
       "      <th>3</th>\n",
       "      <td>8218</td>\n",
       "      <td>location 931</td>\n",
       "      <td>1</td>\n",
       "    </tr>\n",
       "    <tr>\n",
       "      <th>4</th>\n",
       "      <td>14804</td>\n",
       "      <td>location 120</td>\n",
       "      <td>0</td>\n",
       "    </tr>\n",
       "  </tbody>\n",
       "</table>\n",
       "</div>"
      ],
      "text/plain": [
       "      id      location  fault_severity\n",
       "0  14121  location 118               1\n",
       "1   9320   location 91               0\n",
       "2  14394  location 152               1\n",
       "3   8218  location 931               1\n",
       "4  14804  location 120               0"
      ]
     },
     "execution_count": 3,
     "metadata": {},
     "output_type": "execute_result"
    }
   ],
   "source": [
    "train.head()"
   ]
  },
  {
   "cell_type": "markdown",
   "metadata": {},
   "source": [
    "### Combine test & train:"
   ]
  },
  {
   "cell_type": "code",
   "execution_count": 4,
   "metadata": {
    "collapsed": false
   },
   "outputs": [
    {
     "data": {
      "text/html": [
       "<div>\n",
       "<table border=\"1\" class=\"dataframe\">\n",
       "  <thead>\n",
       "    <tr style=\"text-align: right;\">\n",
       "      <th></th>\n",
       "      <th>fault_severity</th>\n",
       "      <th>id</th>\n",
       "      <th>location</th>\n",
       "      <th>source</th>\n",
       "    </tr>\n",
       "  </thead>\n",
       "  <tbody>\n",
       "    <tr>\n",
       "      <th>0</th>\n",
       "      <td>1</td>\n",
       "      <td>14121</td>\n",
       "      <td>location 118</td>\n",
       "      <td>train</td>\n",
       "    </tr>\n",
       "    <tr>\n",
       "      <th>1</th>\n",
       "      <td>0</td>\n",
       "      <td>9320</td>\n",
       "      <td>location 91</td>\n",
       "      <td>train</td>\n",
       "    </tr>\n",
       "    <tr>\n",
       "      <th>2</th>\n",
       "      <td>1</td>\n",
       "      <td>14394</td>\n",
       "      <td>location 152</td>\n",
       "      <td>train</td>\n",
       "    </tr>\n",
       "    <tr>\n",
       "      <th>3</th>\n",
       "      <td>1</td>\n",
       "      <td>8218</td>\n",
       "      <td>location 931</td>\n",
       "      <td>train</td>\n",
       "    </tr>\n",
       "    <tr>\n",
       "      <th>4</th>\n",
       "      <td>0</td>\n",
       "      <td>14804</td>\n",
       "      <td>location 120</td>\n",
       "      <td>train</td>\n",
       "    </tr>\n",
       "  </tbody>\n",
       "</table>\n",
       "</div>"
      ],
      "text/plain": [
       "   fault_severity     id      location source\n",
       "0               1  14121  location 118  train\n",
       "1               0   9320   location 91  train\n",
       "2               1  14394  location 152  train\n",
       "3               1   8218  location 931  train\n",
       "4               0  14804  location 120  train"
      ]
     },
     "execution_count": 4,
     "metadata": {},
     "output_type": "execute_result"
    }
   ],
   "source": [
    "train['source'] = 'train'\n",
    "test['source'] = 'test'\n",
    "data = pd.concat([train,test], ignore_index=True)\n",
    "data.head()"
   ]
  },
  {
   "cell_type": "code",
   "execution_count": 5,
   "metadata": {
    "collapsed": false
   },
   "outputs": [
    {
     "name": "stdout",
     "output_type": "stream",
     "text": [
      "(7381, 4)\n",
      "(11171, 3)\n",
      "(18552, 4)\n",
      "(31170, 2)\n",
      "(58671, 3)\n",
      "(21076, 2)\n",
      "(18552, 2)\n"
     ]
    }
   ],
   "source": [
    "print train.shape\n",
    "print test.shape\n",
    "print data.shape\n",
    "print event_type.shape\n",
    "print log_feature.shape\n",
    "print resource_type.shape\n",
    "print severity_type.shape"
   ]
  },
  {
   "cell_type": "code",
   "execution_count": 6,
   "metadata": {
    "collapsed": false
   },
   "outputs": [
    {
     "name": "stdout",
     "output_type": "stream",
     "text": [
      "1126\n"
     ]
    }
   ],
   "source": [
    "print len(data['location'].unique())"
   ]
  },
  {
   "cell_type": "code",
   "execution_count": 7,
   "metadata": {
    "collapsed": false
   },
   "outputs": [
    {
     "data": {
      "text/plain": [
       "0    4784\n",
       "1    1871\n",
       "2     726\n",
       "Name: fault_severity, dtype: int64"
      ]
     },
     "execution_count": 7,
     "metadata": {},
     "output_type": "execute_result"
    }
   ],
   "source": [
    "data['fault_severity'].value_counts()"
   ]
  },
  {
   "cell_type": "code",
   "execution_count": 8,
   "metadata": {
    "collapsed": false,
    "scrolled": false
   },
   "outputs": [
    {
     "name": "stdout",
     "output_type": "stream",
     "text": [
      "     id  log_feature  volume\n",
      "0  6597   feature 68       6\n",
      "1  8011   feature 68       7\n",
      "2  2597   feature 68       1\n",
      "3  5022  feature 172       2\n",
      "4  5022   feature 56       1\n",
      "     id    resource_type\n",
      "0  6597  resource_type 8\n",
      "1  8011  resource_type 8\n",
      "2  2597  resource_type 8\n",
      "3  5022  resource_type 8\n",
      "4  6852  resource_type 8\n",
      "     id    severity_type\n",
      "0  6597  severity_type 2\n",
      "1  8011  severity_type 2\n",
      "2  2597  severity_type 2\n",
      "3  5022  severity_type 1\n",
      "4  6852  severity_type 1\n"
     ]
    }
   ],
   "source": [
    "print log_feature.head()\n",
    "print resource_type.head()\n",
    "print severity_type.head()"
   ]
  },
  {
   "cell_type": "markdown",
   "metadata": {},
   "source": [
    "## Event type:"
   ]
  },
  {
   "cell_type": "code",
   "execution_count": 9,
   "metadata": {
    "collapsed": false
   },
   "outputs": [
    {
     "name": "stdout",
     "output_type": "stream",
     "text": [
      "     id     event_type\n",
      "0  6597  event_type 11\n",
      "1  8011  event_type 15\n",
      "2  2597  event_type 15\n",
      "3  5022  event_type 15\n",
      "4  5022  event_type 11\n"
     ]
    }
   ],
   "source": [
    "print event_type.head()"
   ]
  },
  {
   "cell_type": "code",
   "execution_count": 10,
   "metadata": {
    "collapsed": false
   },
   "outputs": [
    {
     "data": {
      "text/html": [
       "<div>\n",
       "<table border=\"1\" class=\"dataframe\">\n",
       "  <thead>\n",
       "    <tr style=\"text-align: right;\">\n",
       "      <th></th>\n",
       "      <th>id</th>\n",
       "      <th>event_type</th>\n",
       "      <th>fault_severity</th>\n",
       "      <th>location</th>\n",
       "      <th>source</th>\n",
       "    </tr>\n",
       "  </thead>\n",
       "  <tbody>\n",
       "    <tr>\n",
       "      <th>0</th>\n",
       "      <td>6597</td>\n",
       "      <td>event_type 11</td>\n",
       "      <td>NaN</td>\n",
       "      <td>location 1</td>\n",
       "      <td>test</td>\n",
       "    </tr>\n",
       "    <tr>\n",
       "      <th>1</th>\n",
       "      <td>8011</td>\n",
       "      <td>event_type 15</td>\n",
       "      <td>0</td>\n",
       "      <td>location 1</td>\n",
       "      <td>train</td>\n",
       "    </tr>\n",
       "    <tr>\n",
       "      <th>2</th>\n",
       "      <td>2597</td>\n",
       "      <td>event_type 15</td>\n",
       "      <td>NaN</td>\n",
       "      <td>location 1</td>\n",
       "      <td>test</td>\n",
       "    </tr>\n",
       "    <tr>\n",
       "      <th>3</th>\n",
       "      <td>5022</td>\n",
       "      <td>event_type 15</td>\n",
       "      <td>NaN</td>\n",
       "      <td>location 1</td>\n",
       "      <td>test</td>\n",
       "    </tr>\n",
       "    <tr>\n",
       "      <th>4</th>\n",
       "      <td>5022</td>\n",
       "      <td>event_type 11</td>\n",
       "      <td>NaN</td>\n",
       "      <td>location 1</td>\n",
       "      <td>test</td>\n",
       "    </tr>\n",
       "  </tbody>\n",
       "</table>\n",
       "</div>"
      ],
      "text/plain": [
       "     id     event_type  fault_severity    location source\n",
       "0  6597  event_type 11             NaN  location 1   test\n",
       "1  8011  event_type 15               0  location 1  train\n",
       "2  2597  event_type 15             NaN  location 1   test\n",
       "3  5022  event_type 15             NaN  location 1   test\n",
       "4  5022  event_type 11             NaN  location 1   test"
      ]
     },
     "execution_count": 10,
     "metadata": {},
     "output_type": "execute_result"
    }
   ],
   "source": [
    "event_type = event_type.merge(data, on='id')\n",
    "event_type.head()"
   ]
  },
  {
   "cell_type": "code",
   "execution_count": 11,
   "metadata": {
    "collapsed": false
   },
   "outputs": [
    {
     "data": {
      "text/html": [
       "<div>\n",
       "<table border=\"1\" class=\"dataframe\">\n",
       "  <thead>\n",
       "    <tr style=\"text-align: right;\">\n",
       "      <th></th>\n",
       "      <th>event_type</th>\n",
       "    </tr>\n",
       "  </thead>\n",
       "  <tbody>\n",
       "    <tr>\n",
       "      <th>event_type 11</th>\n",
       "      <td>7888</td>\n",
       "    </tr>\n",
       "    <tr>\n",
       "      <th>event_type 35</th>\n",
       "      <td>6615</td>\n",
       "    </tr>\n",
       "    <tr>\n",
       "      <th>event_type 34</th>\n",
       "      <td>5927</td>\n",
       "    </tr>\n",
       "    <tr>\n",
       "      <th>event_type 15</th>\n",
       "      <td>4395</td>\n",
       "    </tr>\n",
       "    <tr>\n",
       "      <th>event_type 20</th>\n",
       "      <td>1458</td>\n",
       "    </tr>\n",
       "  </tbody>\n",
       "</table>\n",
       "</div>"
      ],
      "text/plain": [
       "               event_type\n",
       "event_type 11        7888\n",
       "event_type 35        6615\n",
       "event_type 34        5927\n",
       "event_type 15        4395\n",
       "event_type 20        1458"
      ]
     },
     "execution_count": 11,
     "metadata": {},
     "output_type": "execute_result"
    }
   ],
   "source": [
    "event_type_unq = pd.DataFrame(event_type['event_type'].value_counts())\n",
    "event_type_unq.head()"
   ]
  },
  {
   "cell_type": "code",
   "execution_count": 12,
   "metadata": {
    "collapsed": false
   },
   "outputs": [
    {
     "data": {
      "text/html": [
       "<div>\n",
       "<table border=\"1\" class=\"dataframe\">\n",
       "  <thead>\n",
       "    <tr style=\"text-align: right;\">\n",
       "      <th></th>\n",
       "      <th>event_type</th>\n",
       "      <th>PercTrain</th>\n",
       "    </tr>\n",
       "  </thead>\n",
       "  <tbody>\n",
       "    <tr>\n",
       "      <th>event_type 11</th>\n",
       "      <td>7888</td>\n",
       "      <td>0.388945</td>\n",
       "    </tr>\n",
       "    <tr>\n",
       "      <th>event_type 35</th>\n",
       "      <td>6615</td>\n",
       "      <td>0.407105</td>\n",
       "    </tr>\n",
       "    <tr>\n",
       "      <th>event_type 34</th>\n",
       "      <td>5927</td>\n",
       "      <td>0.406783</td>\n",
       "    </tr>\n",
       "    <tr>\n",
       "      <th>event_type 15</th>\n",
       "      <td>4395</td>\n",
       "      <td>0.392264</td>\n",
       "    </tr>\n",
       "    <tr>\n",
       "      <th>event_type 20</th>\n",
       "      <td>1458</td>\n",
       "      <td>0.382030</td>\n",
       "    </tr>\n",
       "  </tbody>\n",
       "</table>\n",
       "</div>"
      ],
      "text/plain": [
       "               event_type  PercTrain\n",
       "event_type 11        7888   0.388945\n",
       "event_type 35        6615   0.407105\n",
       "event_type 34        5927   0.406783\n",
       "event_type 15        4395   0.392264\n",
       "event_type 20        1458   0.382030"
      ]
     },
     "execution_count": 12,
     "metadata": {},
     "output_type": "execute_result"
    }
   ],
   "source": [
    "#Determine % of training samples:\n",
    "event_type_unq['PercTrain'] = event_type.pivot_table(values='source',index='event_type',aggfunc=lambda x: sum(x=='train')/float(len(x)))\n",
    "event_type_unq.head()"
   ]
  },
  {
   "cell_type": "code",
   "execution_count": 13,
   "metadata": {
    "collapsed": true
   },
   "outputs": [],
   "source": [
    "#Determine the mode of each:\n",
    "event_type_unq['Mode_Severity'] = event_type.loc[event_type['source']=='train'].pivot_table(values='fault_severity',index='event_type', aggfunc=lambda x: mode(x).mode[0])"
   ]
  },
  {
   "cell_type": "code",
   "execution_count": 66,
   "metadata": {
    "collapsed": false
   },
   "outputs": [
    {
     "data": {
      "text/html": [
       "<div>\n",
       "<table border=\"1\" class=\"dataframe\">\n",
       "  <thead>\n",
       "    <tr style=\"text-align: right;\">\n",
       "      <th></th>\n",
       "      <th>event_type</th>\n",
       "      <th>PercTrain</th>\n",
       "      <th>Mode_Severity</th>\n",
       "      <th>preprocess</th>\n",
       "    </tr>\n",
       "  </thead>\n",
       "  <tbody>\n",
       "    <tr>\n",
       "      <th>event_type 53</th>\n",
       "      <td>17</td>\n",
       "      <td>0.294118</td>\n",
       "      <td>2</td>\n",
       "      <td>event_type others_2</td>\n",
       "    </tr>\n",
       "    <tr>\n",
       "      <th>event_type 9</th>\n",
       "      <td>14</td>\n",
       "      <td>0.214286</td>\n",
       "      <td>0</td>\n",
       "      <td>event_type others_0</td>\n",
       "    </tr>\n",
       "    <tr>\n",
       "      <th>event_type 19</th>\n",
       "      <td>14</td>\n",
       "      <td>0.285714</td>\n",
       "      <td>2</td>\n",
       "      <td>event_type others_2</td>\n",
       "    </tr>\n",
       "    <tr>\n",
       "      <th>event_type 31</th>\n",
       "      <td>10</td>\n",
       "      <td>0.500000</td>\n",
       "      <td>1</td>\n",
       "      <td>event_type others_1</td>\n",
       "    </tr>\n",
       "    <tr>\n",
       "      <th>event_type 37</th>\n",
       "      <td>10</td>\n",
       "      <td>0.400000</td>\n",
       "      <td>0</td>\n",
       "      <td>event_type others_0</td>\n",
       "    </tr>\n",
       "    <tr>\n",
       "      <th>event_type 12</th>\n",
       "      <td>6</td>\n",
       "      <td>0.333333</td>\n",
       "      <td>0</td>\n",
       "      <td>event_type others_0</td>\n",
       "    </tr>\n",
       "    <tr>\n",
       "      <th>event_type 25</th>\n",
       "      <td>5</td>\n",
       "      <td>0.200000</td>\n",
       "      <td>0</td>\n",
       "      <td>event_type others_0</td>\n",
       "    </tr>\n",
       "    <tr>\n",
       "      <th>event_type 1</th>\n",
       "      <td>4</td>\n",
       "      <td>0.250000</td>\n",
       "      <td>0</td>\n",
       "      <td>event_type others_0</td>\n",
       "    </tr>\n",
       "    <tr>\n",
       "      <th>event_type 51</th>\n",
       "      <td>4</td>\n",
       "      <td>0.750000</td>\n",
       "      <td>0</td>\n",
       "      <td>event_type others_0</td>\n",
       "    </tr>\n",
       "    <tr>\n",
       "      <th>event_type 17</th>\n",
       "      <td>3</td>\n",
       "      <td>0.000000</td>\n",
       "      <td>NaN</td>\n",
       "      <td>Remove</td>\n",
       "    </tr>\n",
       "    <tr>\n",
       "      <th>event_type 48</th>\n",
       "      <td>2</td>\n",
       "      <td>0.500000</td>\n",
       "      <td>0</td>\n",
       "      <td>event_type others_0</td>\n",
       "    </tr>\n",
       "    <tr>\n",
       "      <th>event_type 41</th>\n",
       "      <td>2</td>\n",
       "      <td>0.500000</td>\n",
       "      <td>0</td>\n",
       "      <td>event_type others_0</td>\n",
       "    </tr>\n",
       "    <tr>\n",
       "      <th>event_type 4</th>\n",
       "      <td>1</td>\n",
       "      <td>0.000000</td>\n",
       "      <td>NaN</td>\n",
       "      <td>Remove</td>\n",
       "    </tr>\n",
       "    <tr>\n",
       "      <th>event_type 52</th>\n",
       "      <td>1</td>\n",
       "      <td>0.000000</td>\n",
       "      <td>NaN</td>\n",
       "      <td>Remove</td>\n",
       "    </tr>\n",
       "    <tr>\n",
       "      <th>event_type 33</th>\n",
       "      <td>1</td>\n",
       "      <td>0.000000</td>\n",
       "      <td>NaN</td>\n",
       "      <td>Remove</td>\n",
       "    </tr>\n",
       "  </tbody>\n",
       "</table>\n",
       "</div>"
      ],
      "text/plain": [
       "               event_type  PercTrain  Mode_Severity           preprocess\n",
       "event_type 53          17   0.294118              2  event_type others_2\n",
       "event_type 9           14   0.214286              0  event_type others_0\n",
       "event_type 19          14   0.285714              2  event_type others_2\n",
       "event_type 31          10   0.500000              1  event_type others_1\n",
       "event_type 37          10   0.400000              0  event_type others_0\n",
       "event_type 12           6   0.333333              0  event_type others_0\n",
       "event_type 25           5   0.200000              0  event_type others_0\n",
       "event_type 1            4   0.250000              0  event_type others_0\n",
       "event_type 51           4   0.750000              0  event_type others_0\n",
       "event_type 17           3   0.000000            NaN               Remove\n",
       "event_type 48           2   0.500000              0  event_type others_0\n",
       "event_type 41           2   0.500000              0  event_type others_0\n",
       "event_type 4            1   0.000000            NaN               Remove\n",
       "event_type 52           1   0.000000            NaN               Remove\n",
       "event_type 33           1   0.000000            NaN               Remove"
      ]
     },
     "execution_count": 66,
     "metadata": {},
     "output_type": "execute_result"
    }
   ],
   "source": [
    "event_type_unq.iloc[-15:]"
   ]
  },
  {
   "cell_type": "code",
   "execution_count": 15,
   "metadata": {
    "collapsed": false
   },
   "outputs": [
    {
     "name": "stderr",
     "output_type": "stream",
     "text": [
      "/Users/aarshay/anaconda/lib/python2.7/site-packages/pandas/core/indexing.py:117: SettingWithCopyWarning: \n",
      "A value is trying to be set on a copy of a slice from a DataFrame\n",
      "\n",
      "See the caveats in the documentation: http://pandas.pydata.org/pandas-docs/stable/indexing.html#indexing-view-versus-copy\n",
      "  self._setitem_with_indexer(indexer, value)\n"
     ]
    }
   ],
   "source": [
    "#define action for each:\n",
    "#initialize:\n",
    "event_type_unq['preprocess'] = event_type_unq.index.values\n",
    "\n",
    "#remove the ones not present in train:\n",
    "# event_type_unq['preprocess'].loc[event_type_unq['PercTrain']==0] = 'Remove'\n",
    "\n",
    "#replace the lower ones with mode:\n",
    "top_unchange = 33\n",
    "event_type_unq['preprocess'].iloc[top_unchange:] = event_type_unq['Mode_Severity'].iloc[top_unchange:].apply(lambda x: 'Remove' if pd.isnull(x) else 'event_type others_%d'%int(x))"
   ]
  },
  {
   "cell_type": "code",
   "execution_count": 16,
   "metadata": {
    "collapsed": false
   },
   "outputs": [
    {
     "name": "stdout",
     "output_type": "stream",
     "text": [
      "event_type others_0    10\n",
      "event_type others_2     5\n",
      "Remove                  4\n",
      "event_type 10           1\n",
      "event_type 27           1\n",
      "event_type 54           1\n",
      "event_type 26           1\n",
      "event_type 50           1\n",
      "event_type 28           1\n",
      "event_type 47           1\n",
      "event_type 8            1\n",
      "event_type 43           1\n",
      "event_type 42           1\n",
      "event_type 34           1\n",
      "event_type 35           1\n",
      "event_type 21           1\n",
      "event_type 20           1\n",
      "event_type 23           1\n",
      "event_type 45           1\n",
      "event_type 46           1\n",
      "event_type 11           1\n",
      "event_type 30           1\n",
      "event_type 40           1\n",
      "event_type 29           1\n",
      "event_type 14           1\n",
      "event_type 15           1\n",
      "event_type 18           1\n",
      "event_type 32           1\n",
      "event_type 22           1\n",
      "event_type 2            1\n",
      "event_type 24           1\n",
      "event_type 5            1\n",
      "event_type 6            1\n",
      "event_type 7            1\n",
      "event_type 13           1\n",
      "event_type others_1     1\n",
      "event_type 44           1\n",
      "Name: preprocess, dtype: int64\n",
      "               event_type  PercTrain  Mode_Severity           preprocess\n",
      "event_type 11        7888   0.388945              0        event_type 11\n",
      "event_type 35        6615   0.407105              0        event_type 35\n",
      "event_type 34        5927   0.406783              0        event_type 34\n",
      "event_type 15        4395   0.392264              0        event_type 15\n",
      "event_type 20        1458   0.382030              0        event_type 20\n",
      "event_type 54         684   0.385965              0        event_type 54\n",
      "event_type 13         582   0.424399              1        event_type 13\n",
      "event_type 42         478   0.387029              0        event_type 42\n",
      "event_type 44         466   0.381974              0        event_type 44\n",
      "event_type 23         429   0.461538              0        event_type 23\n",
      "event_type 14         330   0.436364              0        event_type 14\n",
      "event_type 43         306   0.411765              0        event_type 43\n",
      "event_type 22         223   0.430493              1        event_type 22\n",
      "event_type 50         154   0.331169              0        event_type 50\n",
      "event_type 10         145   0.400000              1        event_type 10\n",
      "event_type 21         136   0.463235              0        event_type 21\n",
      "event_type 18          73   0.479452              0        event_type 18\n",
      "event_type 47          69   0.405797              0        event_type 47\n",
      "event_type 26          65   0.430769              0        event_type 26\n",
      "event_type 32          63   0.380952              0        event_type 32\n",
      "event_type 30          60   0.433333              1        event_type 30\n",
      "event_type 45          53   0.377358              0        event_type 45\n",
      "event_type 24          46   0.478261              0        event_type 24\n",
      "event_type 27          44   0.340909              0        event_type 27\n",
      "event_type 29          42   0.404762              1        event_type 29\n",
      "event_type 40          40   0.400000              0        event_type 40\n",
      "event_type 46          38   0.526316              0        event_type 46\n",
      "event_type 2           37   0.459459              1         event_type 2\n",
      "event_type 28          32   0.500000              1        event_type 28\n",
      "event_type 8           29   0.275862              0         event_type 8\n",
      "event_type 6           28   0.571429              1         event_type 6\n",
      "event_type 5           26   0.615385              2         event_type 5\n",
      "event_type 7           24   0.541667              1         event_type 7\n",
      "event_type 3           19   0.368421              2  event_type others_2\n",
      "event_type 38          19   0.473684              0  event_type others_0\n",
      "event_type 36          18   0.555556              0  event_type others_0\n",
      "event_type 39          18   0.333333              2  event_type others_2\n",
      "event_type 49          17   0.352941              2  event_type others_2\n",
      "event_type 53          17   0.294118              2  event_type others_2\n",
      "event_type 9           14   0.214286              0  event_type others_0\n",
      "event_type 19          14   0.285714              2  event_type others_2\n",
      "event_type 31          10   0.500000              1  event_type others_1\n",
      "event_type 37          10   0.400000              0  event_type others_0\n",
      "event_type 12           6   0.333333              0  event_type others_0\n",
      "event_type 25           5   0.200000              0  event_type others_0\n",
      "event_type 1            4   0.250000              0  event_type others_0\n",
      "event_type 51           4   0.750000              0  event_type others_0\n",
      "event_type 17           3   0.000000            NaN               Remove\n",
      "event_type 48           2   0.500000              0  event_type others_0\n",
      "event_type 41           2   0.500000              0  event_type others_0\n",
      "event_type 4            1   0.000000            NaN               Remove\n",
      "event_type 52           1   0.000000            NaN               Remove\n",
      "event_type 33           1   0.000000            NaN               Remove\n"
     ]
    }
   ],
   "source": [
    "print event_type_unq['preprocess'].value_counts()\n",
    "print event_type_unq"
   ]
  },
  {
   "cell_type": "code",
   "execution_count": 17,
   "metadata": {
    "collapsed": false
   },
   "outputs": [
    {
     "name": "stdout",
     "output_type": "stream",
     "text": [
      "       id     event_type  fault_severity    location source     preprocess\n",
      "0    6597  event_type 11             NaN  location 1   test  event_type 11\n",
      "4    5022  event_type 11             NaN  location 1   test  event_type 11\n",
      "5    6852  event_type 11             NaN  location 1   test  event_type 11\n",
      "9   14838  event_type 11             NaN  location 1   test  event_type 11\n",
      "11   2588  event_type 11               0  location 1  train  event_type 11\n"
     ]
    },
    {
     "data": {
      "text/plain": [
       "event_type 11          7888\n",
       "event_type 35          6615\n",
       "event_type 34          5927\n",
       "event_type 15          4395\n",
       "event_type 20          1458\n",
       "event_type 54           684\n",
       "event_type 13           582\n",
       "event_type 42           478\n",
       "event_type 44           466\n",
       "event_type 23           429\n",
       "event_type 14           330\n",
       "event_type 43           306\n",
       "event_type 22           223\n",
       "event_type 50           154\n",
       "event_type 10           145\n",
       "event_type 21           136\n",
       "event_type others_2      85\n",
       "event_type others_0      84\n",
       "event_type 18            73\n",
       "event_type 47            69\n",
       "event_type 26            65\n",
       "event_type 32            63\n",
       "event_type 30            60\n",
       "event_type 45            53\n",
       "event_type 24            46\n",
       "event_type 27            44\n",
       "event_type 29            42\n",
       "event_type 40            40\n",
       "event_type 46            38\n",
       "event_type 2             37\n",
       "event_type 28            32\n",
       "event_type 8             29\n",
       "event_type 6             28\n",
       "event_type 5             26\n",
       "event_type 7             24\n",
       "event_type others_1      10\n",
       "Remove                    6\n",
       "Name: preprocess, dtype: int64"
      ]
     },
     "execution_count": 17,
     "metadata": {},
     "output_type": "execute_result"
    }
   ],
   "source": [
    "#Merge preprocess into original and then into train:\n",
    "event_type = event_type.merge(event_type_unq[['preprocess']], left_on='event_type',right_index=True)\n",
    "print event_type.head()\n",
    "event_type['preprocess'].value_counts()"
   ]
  },
  {
   "cell_type": "code",
   "execution_count": 18,
   "metadata": {
    "collapsed": false
   },
   "outputs": [
    {
     "data": {
      "text/plain": [
       "(18552, 37)"
      ]
     },
     "execution_count": 18,
     "metadata": {},
     "output_type": "execute_result"
    }
   ],
   "source": [
    "event_type_merge = event_type.pivot_table(values='event_type',index='id',columns='preprocess',aggfunc=lambda x: len(x), fill_value=0)\n",
    "event_type_merge.shape"
   ]
  },
  {
   "cell_type": "code",
   "execution_count": 19,
   "metadata": {
    "collapsed": false
   },
   "outputs": [
    {
     "data": {
      "text/html": [
       "<div>\n",
       "<table border=\"1\" class=\"dataframe\">\n",
       "  <thead>\n",
       "    <tr style=\"text-align: right;\">\n",
       "      <th></th>\n",
       "      <th>fault_severity</th>\n",
       "      <th>id</th>\n",
       "      <th>location</th>\n",
       "      <th>source</th>\n",
       "      <th>Remove</th>\n",
       "      <th>event_type 10</th>\n",
       "      <th>event_type 11</th>\n",
       "      <th>event_type 13</th>\n",
       "      <th>event_type 14</th>\n",
       "      <th>event_type 15</th>\n",
       "      <th>...</th>\n",
       "      <th>event_type 47</th>\n",
       "      <th>event_type 5</th>\n",
       "      <th>event_type 50</th>\n",
       "      <th>event_type 54</th>\n",
       "      <th>event_type 6</th>\n",
       "      <th>event_type 7</th>\n",
       "      <th>event_type 8</th>\n",
       "      <th>event_type others_0</th>\n",
       "      <th>event_type others_1</th>\n",
       "      <th>event_type others_2</th>\n",
       "    </tr>\n",
       "  </thead>\n",
       "  <tbody>\n",
       "    <tr>\n",
       "      <th>0</th>\n",
       "      <td>1</td>\n",
       "      <td>14121</td>\n",
       "      <td>location 118</td>\n",
       "      <td>train</td>\n",
       "      <td>0</td>\n",
       "      <td>0</td>\n",
       "      <td>0</td>\n",
       "      <td>0</td>\n",
       "      <td>0</td>\n",
       "      <td>0</td>\n",
       "      <td>...</td>\n",
       "      <td>0</td>\n",
       "      <td>0</td>\n",
       "      <td>0</td>\n",
       "      <td>0</td>\n",
       "      <td>0</td>\n",
       "      <td>0</td>\n",
       "      <td>0</td>\n",
       "      <td>0</td>\n",
       "      <td>0</td>\n",
       "      <td>0</td>\n",
       "    </tr>\n",
       "    <tr>\n",
       "      <th>1</th>\n",
       "      <td>0</td>\n",
       "      <td>9320</td>\n",
       "      <td>location 91</td>\n",
       "      <td>train</td>\n",
       "      <td>0</td>\n",
       "      <td>0</td>\n",
       "      <td>0</td>\n",
       "      <td>0</td>\n",
       "      <td>0</td>\n",
       "      <td>0</td>\n",
       "      <td>...</td>\n",
       "      <td>0</td>\n",
       "      <td>0</td>\n",
       "      <td>0</td>\n",
       "      <td>0</td>\n",
       "      <td>0</td>\n",
       "      <td>0</td>\n",
       "      <td>0</td>\n",
       "      <td>0</td>\n",
       "      <td>0</td>\n",
       "      <td>0</td>\n",
       "    </tr>\n",
       "    <tr>\n",
       "      <th>2</th>\n",
       "      <td>1</td>\n",
       "      <td>14394</td>\n",
       "      <td>location 152</td>\n",
       "      <td>train</td>\n",
       "      <td>0</td>\n",
       "      <td>0</td>\n",
       "      <td>0</td>\n",
       "      <td>0</td>\n",
       "      <td>0</td>\n",
       "      <td>0</td>\n",
       "      <td>...</td>\n",
       "      <td>0</td>\n",
       "      <td>0</td>\n",
       "      <td>0</td>\n",
       "      <td>0</td>\n",
       "      <td>0</td>\n",
       "      <td>0</td>\n",
       "      <td>0</td>\n",
       "      <td>0</td>\n",
       "      <td>0</td>\n",
       "      <td>0</td>\n",
       "    </tr>\n",
       "    <tr>\n",
       "      <th>3</th>\n",
       "      <td>1</td>\n",
       "      <td>8218</td>\n",
       "      <td>location 931</td>\n",
       "      <td>train</td>\n",
       "      <td>0</td>\n",
       "      <td>0</td>\n",
       "      <td>1</td>\n",
       "      <td>0</td>\n",
       "      <td>0</td>\n",
       "      <td>1</td>\n",
       "      <td>...</td>\n",
       "      <td>0</td>\n",
       "      <td>0</td>\n",
       "      <td>0</td>\n",
       "      <td>0</td>\n",
       "      <td>0</td>\n",
       "      <td>0</td>\n",
       "      <td>0</td>\n",
       "      <td>0</td>\n",
       "      <td>0</td>\n",
       "      <td>0</td>\n",
       "    </tr>\n",
       "    <tr>\n",
       "      <th>4</th>\n",
       "      <td>0</td>\n",
       "      <td>14804</td>\n",
       "      <td>location 120</td>\n",
       "      <td>train</td>\n",
       "      <td>0</td>\n",
       "      <td>0</td>\n",
       "      <td>1</td>\n",
       "      <td>0</td>\n",
       "      <td>0</td>\n",
       "      <td>0</td>\n",
       "      <td>...</td>\n",
       "      <td>0</td>\n",
       "      <td>0</td>\n",
       "      <td>0</td>\n",
       "      <td>0</td>\n",
       "      <td>0</td>\n",
       "      <td>0</td>\n",
       "      <td>0</td>\n",
       "      <td>1</td>\n",
       "      <td>0</td>\n",
       "      <td>0</td>\n",
       "    </tr>\n",
       "  </tbody>\n",
       "</table>\n",
       "<p>5 rows × 41 columns</p>\n",
       "</div>"
      ],
      "text/plain": [
       "   fault_severity     id      location source  Remove  event_type 10  \\\n",
       "0               1  14121  location 118  train       0              0   \n",
       "1               0   9320   location 91  train       0              0   \n",
       "2               1  14394  location 152  train       0              0   \n",
       "3               1   8218  location 931  train       0              0   \n",
       "4               0  14804  location 120  train       0              0   \n",
       "\n",
       "   event_type 11  event_type 13  event_type 14  event_type 15  \\\n",
       "0              0              0              0              0   \n",
       "1              0              0              0              0   \n",
       "2              0              0              0              0   \n",
       "3              1              0              0              1   \n",
       "4              1              0              0              0   \n",
       "\n",
       "          ...           event_type 47  event_type 5  event_type 50  \\\n",
       "0         ...                       0             0              0   \n",
       "1         ...                       0             0              0   \n",
       "2         ...                       0             0              0   \n",
       "3         ...                       0             0              0   \n",
       "4         ...                       0             0              0   \n",
       "\n",
       "   event_type 54  event_type 6  event_type 7  event_type 8  \\\n",
       "0              0             0             0             0   \n",
       "1              0             0             0             0   \n",
       "2              0             0             0             0   \n",
       "3              0             0             0             0   \n",
       "4              0             0             0             0   \n",
       "\n",
       "   event_type others_0  event_type others_1  event_type others_2  \n",
       "0                    0                    0                    0  \n",
       "1                    0                    0                    0  \n",
       "2                    0                    0                    0  \n",
       "3                    0                    0                    0  \n",
       "4                    1                    0                    0  \n",
       "\n",
       "[5 rows x 41 columns]"
      ]
     },
     "execution_count": 19,
     "metadata": {},
     "output_type": "execute_result"
    }
   ],
   "source": [
    "data = data.merge(event_type_merge, left_on='id', right_index=True)\n",
    "data.head()"
   ]
  },
  {
   "cell_type": "code",
   "execution_count": 20,
   "metadata": {
    "collapsed": false
   },
   "outputs": [
    {
     "name": "stdout",
     "output_type": "stream",
     "text": [
      "(18552, 41)\n"
     ]
    }
   ],
   "source": [
    "print data.shape\n",
    "# print sum(data.iloc[:,5:])"
   ]
  },
  {
   "cell_type": "markdown",
   "metadata": {},
   "source": [
    "## log features:"
   ]
  },
  {
   "cell_type": "code",
   "execution_count": 21,
   "metadata": {
    "collapsed": false
   },
   "outputs": [
    {
     "data": {
      "text/plain": [
       "feature 312    5267\n",
       "feature 232    4754\n",
       "feature 82     3472\n",
       "feature 203    2823\n",
       "feature 313    2145\n",
       "Name: log_feature, dtype: int64"
      ]
     },
     "execution_count": 21,
     "metadata": {},
     "output_type": "execute_result"
    }
   ],
   "source": [
    "log_feature = pd.read_csv('data/log_feature.csv')\n",
    "log_feature['log_feature'].value_counts().head()"
   ]
  },
  {
   "cell_type": "code",
   "execution_count": 22,
   "metadata": {
    "collapsed": false
   },
   "outputs": [
    {
     "data": {
      "text/html": [
       "<div>\n",
       "<table border=\"1\" class=\"dataframe\">\n",
       "  <thead>\n",
       "    <tr style=\"text-align: right;\">\n",
       "      <th></th>\n",
       "      <th>id</th>\n",
       "      <th>log_feature</th>\n",
       "      <th>volume</th>\n",
       "      <th>fault_severity</th>\n",
       "      <th>source</th>\n",
       "    </tr>\n",
       "  </thead>\n",
       "  <tbody>\n",
       "    <tr>\n",
       "      <th>0</th>\n",
       "      <td>6597</td>\n",
       "      <td>feature 68</td>\n",
       "      <td>6</td>\n",
       "      <td>NaN</td>\n",
       "      <td>test</td>\n",
       "    </tr>\n",
       "    <tr>\n",
       "      <th>1</th>\n",
       "      <td>8011</td>\n",
       "      <td>feature 68</td>\n",
       "      <td>7</td>\n",
       "      <td>0</td>\n",
       "      <td>train</td>\n",
       "    </tr>\n",
       "    <tr>\n",
       "      <th>2</th>\n",
       "      <td>2597</td>\n",
       "      <td>feature 68</td>\n",
       "      <td>1</td>\n",
       "      <td>NaN</td>\n",
       "      <td>test</td>\n",
       "    </tr>\n",
       "    <tr>\n",
       "      <th>3</th>\n",
       "      <td>5022</td>\n",
       "      <td>feature 172</td>\n",
       "      <td>2</td>\n",
       "      <td>NaN</td>\n",
       "      <td>test</td>\n",
       "    </tr>\n",
       "    <tr>\n",
       "      <th>4</th>\n",
       "      <td>5022</td>\n",
       "      <td>feature 56</td>\n",
       "      <td>1</td>\n",
       "      <td>NaN</td>\n",
       "      <td>test</td>\n",
       "    </tr>\n",
       "  </tbody>\n",
       "</table>\n",
       "</div>"
      ],
      "text/plain": [
       "     id  log_feature  volume  fault_severity source\n",
       "0  6597   feature 68       6             NaN   test\n",
       "1  8011   feature 68       7               0  train\n",
       "2  2597   feature 68       1             NaN   test\n",
       "3  5022  feature 172       2             NaN   test\n",
       "4  5022   feature 56       1             NaN   test"
      ]
     },
     "execution_count": 22,
     "metadata": {},
     "output_type": "execute_result"
    }
   ],
   "source": [
    "log_feature = log_feature.merge(data[['id','fault_severity','source']], on='id')\n",
    "log_feature.head()"
   ]
  },
  {
   "cell_type": "code",
   "execution_count": 23,
   "metadata": {
    "collapsed": false
   },
   "outputs": [
    {
     "data": {
      "text/html": [
       "<div>\n",
       "<table border=\"1\" class=\"dataframe\">\n",
       "  <thead>\n",
       "    <tr style=\"text-align: right;\">\n",
       "      <th></th>\n",
       "      <th>log_feature</th>\n",
       "    </tr>\n",
       "  </thead>\n",
       "  <tbody>\n",
       "    <tr>\n",
       "      <th>feature 312</th>\n",
       "      <td>5267</td>\n",
       "    </tr>\n",
       "    <tr>\n",
       "      <th>feature 232</th>\n",
       "      <td>4754</td>\n",
       "    </tr>\n",
       "    <tr>\n",
       "      <th>feature 82</th>\n",
       "      <td>3472</td>\n",
       "    </tr>\n",
       "    <tr>\n",
       "      <th>feature 203</th>\n",
       "      <td>2823</td>\n",
       "    </tr>\n",
       "    <tr>\n",
       "      <th>feature 313</th>\n",
       "      <td>2145</td>\n",
       "    </tr>\n",
       "  </tbody>\n",
       "</table>\n",
       "</div>"
      ],
      "text/plain": [
       "             log_feature\n",
       "feature 312         5267\n",
       "feature 232         4754\n",
       "feature 82          3472\n",
       "feature 203         2823\n",
       "feature 313         2145"
      ]
     },
     "execution_count": 23,
     "metadata": {},
     "output_type": "execute_result"
    }
   ],
   "source": [
    "log_feature_unq = pd.DataFrame(log_feature['log_feature'].value_counts())\n",
    "log_feature_unq.head()"
   ]
  },
  {
   "cell_type": "code",
   "execution_count": 24,
   "metadata": {
    "collapsed": false
   },
   "outputs": [
    {
     "data": {
      "text/html": [
       "<div>\n",
       "<table border=\"1\" class=\"dataframe\">\n",
       "  <thead>\n",
       "    <tr style=\"text-align: right;\">\n",
       "      <th></th>\n",
       "      <th>log_feature</th>\n",
       "      <th>PercTrain</th>\n",
       "    </tr>\n",
       "  </thead>\n",
       "  <tbody>\n",
       "    <tr>\n",
       "      <th>feature 312</th>\n",
       "      <td>5267</td>\n",
       "      <td>0.411430</td>\n",
       "    </tr>\n",
       "    <tr>\n",
       "      <th>feature 232</th>\n",
       "      <td>4754</td>\n",
       "      <td>0.408919</td>\n",
       "    </tr>\n",
       "    <tr>\n",
       "      <th>feature 82</th>\n",
       "      <td>3472</td>\n",
       "      <td>0.393433</td>\n",
       "    </tr>\n",
       "    <tr>\n",
       "      <th>feature 203</th>\n",
       "      <td>2823</td>\n",
       "      <td>0.393199</td>\n",
       "    </tr>\n",
       "    <tr>\n",
       "      <th>feature 313</th>\n",
       "      <td>2145</td>\n",
       "      <td>0.421445</td>\n",
       "    </tr>\n",
       "  </tbody>\n",
       "</table>\n",
       "</div>"
      ],
      "text/plain": [
       "             log_feature  PercTrain\n",
       "feature 312         5267   0.411430\n",
       "feature 232         4754   0.408919\n",
       "feature 82          3472   0.393433\n",
       "feature 203         2823   0.393199\n",
       "feature 313         2145   0.421445"
      ]
     },
     "execution_count": 24,
     "metadata": {},
     "output_type": "execute_result"
    }
   ],
   "source": [
    "#Determine % of training samples:\n",
    "log_feature_unq['PercTrain'] = log_feature.pivot_table(values='source',index='log_feature',aggfunc=lambda x: sum(x=='train')/float(len(x)))\n",
    "log_feature_unq.head()"
   ]
  },
  {
   "cell_type": "code",
   "execution_count": 25,
   "metadata": {
    "collapsed": true
   },
   "outputs": [],
   "source": [
    "#Determine the mode of each:\n",
    "log_feature_unq['Mode_Severity'] = log_feature.loc[log_feature['source']=='train'].pivot_table(values='fault_severity',index='log_feature', aggfunc=lambda x: mode(x).mode[0])"
   ]
  },
  {
   "cell_type": "code",
   "execution_count": 26,
   "metadata": {
    "collapsed": false
   },
   "outputs": [
    {
     "data": {
      "text/plain": [
       "386"
      ]
     },
     "execution_count": 26,
     "metadata": {},
     "output_type": "execute_result"
    }
   ],
   "source": [
    "len(log_feature_unq)"
   ]
  },
  {
   "cell_type": "code",
   "execution_count": 27,
   "metadata": {
    "collapsed": false
   },
   "outputs": [
    {
     "data": {
      "text/html": [
       "<div>\n",
       "<table border=\"1\" class=\"dataframe\">\n",
       "  <thead>\n",
       "    <tr style=\"text-align: right;\">\n",
       "      <th></th>\n",
       "      <th>log_feature</th>\n",
       "      <th>PercTrain</th>\n",
       "      <th>Mode_Severity</th>\n",
       "    </tr>\n",
       "  </thead>\n",
       "  <tbody>\n",
       "    <tr>\n",
       "      <th>feature 318</th>\n",
       "      <td>44</td>\n",
       "      <td>0.477273</td>\n",
       "      <td>0</td>\n",
       "    </tr>\n",
       "    <tr>\n",
       "      <th>feature 66</th>\n",
       "      <td>42</td>\n",
       "      <td>0.238095</td>\n",
       "      <td>1</td>\n",
       "    </tr>\n",
       "    <tr>\n",
       "      <th>feature 132</th>\n",
       "      <td>42</td>\n",
       "      <td>0.404762</td>\n",
       "      <td>1</td>\n",
       "    </tr>\n",
       "    <tr>\n",
       "      <th>feature 83</th>\n",
       "      <td>40</td>\n",
       "      <td>0.500000</td>\n",
       "      <td>2</td>\n",
       "    </tr>\n",
       "    <tr>\n",
       "      <th>feature 218</th>\n",
       "      <td>40</td>\n",
       "      <td>0.500000</td>\n",
       "      <td>1</td>\n",
       "    </tr>\n",
       "    <tr>\n",
       "      <th>feature 240</th>\n",
       "      <td>39</td>\n",
       "      <td>0.333333</td>\n",
       "      <td>0</td>\n",
       "    </tr>\n",
       "    <tr>\n",
       "      <th>feature 188</th>\n",
       "      <td>38</td>\n",
       "      <td>0.263158</td>\n",
       "      <td>1</td>\n",
       "    </tr>\n",
       "    <tr>\n",
       "      <th>feature 284</th>\n",
       "      <td>38</td>\n",
       "      <td>0.526316</td>\n",
       "      <td>0</td>\n",
       "    </tr>\n",
       "    <tr>\n",
       "      <th>feature 239</th>\n",
       "      <td>38</td>\n",
       "      <td>0.500000</td>\n",
       "      <td>0</td>\n",
       "    </tr>\n",
       "    <tr>\n",
       "      <th>feature 63</th>\n",
       "      <td>37</td>\n",
       "      <td>0.378378</td>\n",
       "      <td>0</td>\n",
       "    </tr>\n",
       "    <tr>\n",
       "      <th>feature 161</th>\n",
       "      <td>36</td>\n",
       "      <td>0.305556</td>\n",
       "      <td>1</td>\n",
       "    </tr>\n",
       "    <tr>\n",
       "      <th>feature 42</th>\n",
       "      <td>36</td>\n",
       "      <td>0.416667</td>\n",
       "      <td>1</td>\n",
       "    </tr>\n",
       "    <tr>\n",
       "      <th>feature 293</th>\n",
       "      <td>34</td>\n",
       "      <td>0.441176</td>\n",
       "      <td>0</td>\n",
       "    </tr>\n",
       "    <tr>\n",
       "      <th>feature 101</th>\n",
       "      <td>33</td>\n",
       "      <td>0.424242</td>\n",
       "      <td>0</td>\n",
       "    </tr>\n",
       "    <tr>\n",
       "      <th>feature 52</th>\n",
       "      <td>31</td>\n",
       "      <td>0.354839</td>\n",
       "      <td>0</td>\n",
       "    </tr>\n",
       "    <tr>\n",
       "      <th>feature 157</th>\n",
       "      <td>31</td>\n",
       "      <td>0.387097</td>\n",
       "      <td>1</td>\n",
       "    </tr>\n",
       "    <tr>\n",
       "      <th>feature 212</th>\n",
       "      <td>30</td>\n",
       "      <td>0.466667</td>\n",
       "      <td>1</td>\n",
       "    </tr>\n",
       "    <tr>\n",
       "      <th>feature 205</th>\n",
       "      <td>29</td>\n",
       "      <td>0.344828</td>\n",
       "      <td>2</td>\n",
       "    </tr>\n",
       "    <tr>\n",
       "      <th>feature 35</th>\n",
       "      <td>29</td>\n",
       "      <td>0.551724</td>\n",
       "      <td>1</td>\n",
       "    </tr>\n",
       "    <tr>\n",
       "      <th>feature 231</th>\n",
       "      <td>29</td>\n",
       "      <td>0.551724</td>\n",
       "      <td>0</td>\n",
       "    </tr>\n",
       "    <tr>\n",
       "      <th>feature 353</th>\n",
       "      <td>29</td>\n",
       "      <td>0.379310</td>\n",
       "      <td>1</td>\n",
       "    </tr>\n",
       "    <tr>\n",
       "      <th>feature 354</th>\n",
       "      <td>29</td>\n",
       "      <td>0.379310</td>\n",
       "      <td>1</td>\n",
       "    </tr>\n",
       "    <tr>\n",
       "      <th>feature 304</th>\n",
       "      <td>28</td>\n",
       "      <td>0.464286</td>\n",
       "      <td>0</td>\n",
       "    </tr>\n",
       "    <tr>\n",
       "      <th>feature 217</th>\n",
       "      <td>28</td>\n",
       "      <td>0.321429</td>\n",
       "      <td>1</td>\n",
       "    </tr>\n",
       "    <tr>\n",
       "      <th>feature 118</th>\n",
       "      <td>28</td>\n",
       "      <td>0.535714</td>\n",
       "      <td>0</td>\n",
       "    </tr>\n",
       "    <tr>\n",
       "      <th>feature 105</th>\n",
       "      <td>26</td>\n",
       "      <td>0.423077</td>\n",
       "      <td>2</td>\n",
       "    </tr>\n",
       "    <tr>\n",
       "      <th>feature 8</th>\n",
       "      <td>26</td>\n",
       "      <td>0.615385</td>\n",
       "      <td>2</td>\n",
       "    </tr>\n",
       "    <tr>\n",
       "      <th>feature 20</th>\n",
       "      <td>25</td>\n",
       "      <td>0.280000</td>\n",
       "      <td>0</td>\n",
       "    </tr>\n",
       "    <tr>\n",
       "      <th>feature 187</th>\n",
       "      <td>24</td>\n",
       "      <td>0.333333</td>\n",
       "      <td>1</td>\n",
       "    </tr>\n",
       "    <tr>\n",
       "      <th>feature 111</th>\n",
       "      <td>24</td>\n",
       "      <td>0.416667</td>\n",
       "      <td>0</td>\n",
       "    </tr>\n",
       "  </tbody>\n",
       "</table>\n",
       "</div>"
      ],
      "text/plain": [
       "             log_feature  PercTrain  Mode_Severity\n",
       "feature 318           44   0.477273              0\n",
       "feature 66            42   0.238095              1\n",
       "feature 132           42   0.404762              1\n",
       "feature 83            40   0.500000              2\n",
       "feature 218           40   0.500000              1\n",
       "feature 240           39   0.333333              0\n",
       "feature 188           38   0.263158              1\n",
       "feature 284           38   0.526316              0\n",
       "feature 239           38   0.500000              0\n",
       "feature 63            37   0.378378              0\n",
       "feature 161           36   0.305556              1\n",
       "feature 42            36   0.416667              1\n",
       "feature 293           34   0.441176              0\n",
       "feature 101           33   0.424242              0\n",
       "feature 52            31   0.354839              0\n",
       "feature 157           31   0.387097              1\n",
       "feature 212           30   0.466667              1\n",
       "feature 205           29   0.344828              2\n",
       "feature 35            29   0.551724              1\n",
       "feature 231           29   0.551724              0\n",
       "feature 353           29   0.379310              1\n",
       "feature 354           29   0.379310              1\n",
       "feature 304           28   0.464286              0\n",
       "feature 217           28   0.321429              1\n",
       "feature 118           28   0.535714              0\n",
       "feature 105           26   0.423077              2\n",
       "feature 8             26   0.615385              2\n",
       "feature 20            25   0.280000              0\n",
       "feature 187           24   0.333333              1\n",
       "feature 111           24   0.416667              0"
      ]
     },
     "execution_count": 27,
     "metadata": {},
     "output_type": "execute_result"
    }
   ],
   "source": [
    "log_feature_unq.ix[100:130]"
   ]
  },
  {
   "cell_type": "code",
   "execution_count": 28,
   "metadata": {
    "collapsed": false,
    "scrolled": false
   },
   "outputs": [
    {
     "name": "stdout",
     "output_type": "stream",
     "text": [
      "feature others_0    115\n",
      "feature others_1     62\n",
      "Remove               55\n",
      "feature others_2     26\n",
      "feature 203           1\n",
      "feature 83            1\n",
      "feature 362           1\n",
      "feature 81            1\n",
      "feature 360           1\n",
      "feature 309           1\n",
      "feature 172           1\n",
      "feature 202           1\n",
      "feature 85            1\n",
      "feature 171           1\n",
      "feature 368           1\n",
      "feature 179           1\n",
      "feature 86            1\n",
      "feature 207           1\n",
      "feature 201           1\n",
      "feature 206           1\n",
      "feature 205           1\n",
      "feature 204           1\n",
      "feature 135           1\n",
      "feature 134           1\n",
      "feature 209           1\n",
      "feature 133           1\n",
      "feature 132           1\n",
      "feature 289           1\n",
      "feature 75            1\n",
      "feature 74            1\n",
      "                   ... \n",
      "feature 316           1\n",
      "feature 318           1\n",
      "feature 76            1\n",
      "feature 354           1\n",
      "feature 95            1\n",
      "feature 94            1\n",
      "feature 8             1\n",
      "feature 167           1\n",
      "feature 163           1\n",
      "feature 160           1\n",
      "feature 161           1\n",
      "feature 315           1\n",
      "feature 314           1\n",
      "feature 212           1\n",
      "feature 376           1\n",
      "feature 290           1\n",
      "feature 310           1\n",
      "feature 313           1\n",
      "feature 80            1\n",
      "feature 218           1\n",
      "feature 219           1\n",
      "feature 353           1\n",
      "feature 71            1\n",
      "feature 63            1\n",
      "feature 375           1\n",
      "feature 227           1\n",
      "feature 42            1\n",
      "feature 44            1\n",
      "feature 47            1\n",
      "feature 217           1\n",
      "Name: preprocess, dtype: int64\n",
      "             log_feature  PercTrain  Mode_Severity        preprocess\n",
      "feature 312         5267   0.411430              0       feature 312\n",
      "feature 232         4754   0.408919              0       feature 232\n",
      "feature 82          3472   0.393433              2        feature 82\n",
      "feature 203         2823   0.393199              2       feature 203\n",
      "feature 313         2145   0.421445              0       feature 313\n",
      "feature 233         1901   0.423987              0       feature 233\n",
      "feature 307         1597   0.420789              0       feature 307\n",
      "feature 54          1573   0.399237              1        feature 54\n",
      "feature 170         1526   0.396461              1       feature 170\n",
      "feature 71          1514   0.408851              0        feature 71\n",
      "feature 315         1495   0.412709              0       feature 315\n",
      "feature 134         1419   0.384073              0       feature 134\n",
      "feature 80          1336   0.379491              0        feature 80\n",
      "feature 235         1294   0.407264              0       feature 235\n",
      "feature 193         1160   0.400000              0       feature 193\n",
      "feature 219         1152   0.384549              0       feature 219\n",
      "feature 68          1093   0.422690              0        feature 68\n",
      "feature 227         1080   0.404630              0       feature 227\n",
      "feature 314          950   0.440000              0       feature 314\n",
      "feature 201          902   0.369180              0       feature 201\n",
      "feature 234          882   0.437642              0       feature 234\n",
      "feature 73           868   0.383641              0        feature 73\n",
      "feature 195          783   0.369093              0       feature 195\n",
      "feature 301          707   0.417256              0       feature 301\n",
      "feature 309          627   0.448166              0       feature 309\n",
      "feature 55           564   0.395390              0        feature 55\n",
      "feature 229          560   0.446429              0       feature 229\n",
      "feature 273          491   0.425662              1       feature 273\n",
      "feature 308          484   0.423554              0       feature 308\n",
      "feature 368          462   0.385281              0       feature 368\n",
      "...                  ...        ...            ...               ...\n",
      "feature 16             1   1.000000              0  feature others_0\n",
      "feature 271            1   0.000000            NaN            Remove\n",
      "feature 175            1   1.000000              0  feature others_0\n",
      "feature 272            1   0.000000            NaN            Remove\n",
      "feature 263            1   0.000000            NaN            Remove\n",
      "feature 254            1   1.000000              0  feature others_0\n",
      "feature 257            1   1.000000              0  feature others_0\n",
      "feature 250            1   1.000000              0  feature others_0\n",
      "feature 252            1   0.000000            NaN            Remove\n",
      "feature 382            1   0.000000            NaN            Remove\n",
      "feature 386            1   0.000000            NaN            Remove\n",
      "feature 385            1   0.000000            NaN            Remove\n",
      "feature 96             1   1.000000              0  feature others_0\n",
      "feature 3              1   0.000000            NaN            Remove\n",
      "feature 144            1   1.000000              1  feature others_1\n",
      "feature 260            1   1.000000              0  feature others_0\n",
      "feature 262            1   1.000000              1  feature others_1\n",
      "feature 17             1   1.000000              1  feature others_1\n",
      "feature 379            1   0.000000            NaN            Remove\n",
      "feature 12             1   1.000000              1  feature others_1\n",
      "feature 281            1   0.000000            NaN            Remove\n",
      "feature 214            1   0.000000            NaN            Remove\n",
      "feature 287            1   0.000000            NaN            Remove\n",
      "feature 286            1   0.000000            NaN            Remove\n",
      "feature 213            1   1.000000              0  feature others_0\n",
      "feature 210            1   1.000000              2  feature others_2\n",
      "feature 119            1   0.000000            NaN            Remove\n",
      "feature 363            1   1.000000              0  feature others_0\n",
      "feature 34             1   0.000000            NaN            Remove\n",
      "feature 269            1   0.000000            NaN            Remove\n",
      "\n",
      "[386 rows x 4 columns]\n"
     ]
    }
   ],
   "source": [
    "#define action for each:\n",
    "#initialize:\n",
    "log_feature_unq['preprocess'] = log_feature_unq.index.values\n",
    "\n",
    "#remove the ones all in train\n",
    "log_feature_unq['preprocess'].loc[log_feature_unq['PercTrain']==1] = np.nan\n",
    "\n",
    "#replace the lower ones with mode:\n",
    "top_unchange = 128\n",
    "log_feature_unq['preprocess'].iloc[top_unchange:] = log_feature_unq['Mode_Severity'].iloc[top_unchange:].apply(lambda x: 'Remove' if pd.isnull(x) else 'feature others_%d'%int(x))\n",
    "print log_feature_unq['preprocess'].value_counts()\n",
    "print log_feature_unq"
   ]
  },
  {
   "cell_type": "code",
   "execution_count": 29,
   "metadata": {
    "collapsed": false
   },
   "outputs": [
    {
     "name": "stdout",
     "output_type": "stream",
     "text": [
      "       id     event_type  fault_severity    location source     preprocess\n",
      "0    6597  event_type 11             NaN  location 1   test  event_type 11\n",
      "4    5022  event_type 11             NaN  location 1   test  event_type 11\n",
      "5    6852  event_type 11             NaN  location 1   test  event_type 11\n",
      "9   14838  event_type 11             NaN  location 1   test  event_type 11\n",
      "11   2588  event_type 11               0  location 1  train  event_type 11\n"
     ]
    },
    {
     "data": {
      "text/plain": [
       "feature 312         5267\n",
       "feature 232         4754\n",
       "feature 82          3472\n",
       "feature 203         2823\n",
       "feature 313         2145\n",
       "feature 233         1901\n",
       "feature 307         1597\n",
       "feature 54          1573\n",
       "feature 170         1526\n",
       "feature 71          1514\n",
       "feature 315         1495\n",
       "feature 134         1419\n",
       "feature 80          1336\n",
       "feature 235         1294\n",
       "feature 193         1160\n",
       "feature 219         1152\n",
       "feature 68          1093\n",
       "feature 227         1080\n",
       "feature 314          950\n",
       "feature 201          902\n",
       "feature 234          882\n",
       "feature 73           868\n",
       "feature others_0     792\n",
       "feature 195          783\n",
       "feature 301          707\n",
       "feature 309          627\n",
       "feature 55           564\n",
       "feature 229          560\n",
       "feature 273          491\n",
       "feature 308          484\n",
       "                    ... \n",
       "feature 378           46\n",
       "feature 318           44\n",
       "feature 370           44\n",
       "feature 132           42\n",
       "feature 66            42\n",
       "feature 83            40\n",
       "feature 218           40\n",
       "feature 240           39\n",
       "feature 188           38\n",
       "feature 239           38\n",
       "feature 284           38\n",
       "feature 63            37\n",
       "feature 42            36\n",
       "feature 161           36\n",
       "feature 293           34\n",
       "feature 101           33\n",
       "feature 157           31\n",
       "feature 52            31\n",
       "feature 212           30\n",
       "feature 205           29\n",
       "feature 35            29\n",
       "feature 353           29\n",
       "feature 354           29\n",
       "feature 231           29\n",
       "feature 118           28\n",
       "feature 217           28\n",
       "feature 304           28\n",
       "feature 105           26\n",
       "feature 8             26\n",
       "feature 20            25\n",
       "Name: preprocess, dtype: int64"
      ]
     },
     "execution_count": 29,
     "metadata": {},
     "output_type": "execute_result"
    }
   ],
   "source": [
    "#Merge preprocess into original and then into train:\n",
    "log_feature = log_feature.merge(log_feature_unq[['preprocess']], left_on='log_feature',right_index=True)\n",
    "print event_type.head()\n",
    "log_feature['preprocess'].value_counts()"
   ]
  },
  {
   "cell_type": "code",
   "execution_count": 30,
   "metadata": {
    "collapsed": false
   },
   "outputs": [
    {
     "data": {
      "text/plain": [
       "(18552, 132)"
      ]
     },
     "execution_count": 30,
     "metadata": {},
     "output_type": "execute_result"
    }
   ],
   "source": [
    "log_feature_merge = log_feature.pivot_table(values='volume',index='id',columns='preprocess',aggfunc=np.sum, fill_value=0)\n",
    "log_feature_merge.shape"
   ]
  },
  {
   "cell_type": "code",
   "execution_count": 31,
   "metadata": {
    "collapsed": false
   },
   "outputs": [
    {
     "data": {
      "text/plain": [
       "568246"
      ]
     },
     "execution_count": 31,
     "metadata": {},
     "output_type": "execute_result"
    }
   ],
   "source": [
    "log_feature_merge.sum().sum()"
   ]
  },
  {
   "cell_type": "code",
   "execution_count": 32,
   "metadata": {
    "collapsed": false
   },
   "outputs": [
    {
     "data": {
      "text/html": [
       "<div>\n",
       "<table border=\"1\" class=\"dataframe\">\n",
       "  <thead>\n",
       "    <tr style=\"text-align: right;\">\n",
       "      <th></th>\n",
       "      <th>fault_severity</th>\n",
       "      <th>id</th>\n",
       "      <th>location</th>\n",
       "      <th>source</th>\n",
       "      <th>Remove_x</th>\n",
       "      <th>event_type 10</th>\n",
       "      <th>event_type 11</th>\n",
       "      <th>event_type 13</th>\n",
       "      <th>event_type 14</th>\n",
       "      <th>event_type 15</th>\n",
       "      <th>...</th>\n",
       "      <th>feature 82</th>\n",
       "      <th>feature 83</th>\n",
       "      <th>feature 85</th>\n",
       "      <th>feature 86</th>\n",
       "      <th>feature 87</th>\n",
       "      <th>feature 94</th>\n",
       "      <th>feature 95</th>\n",
       "      <th>feature others_0</th>\n",
       "      <th>feature others_1</th>\n",
       "      <th>feature others_2</th>\n",
       "    </tr>\n",
       "  </thead>\n",
       "  <tbody>\n",
       "    <tr>\n",
       "      <th>0</th>\n",
       "      <td>1</td>\n",
       "      <td>14121</td>\n",
       "      <td>location 118</td>\n",
       "      <td>train</td>\n",
       "      <td>0</td>\n",
       "      <td>0</td>\n",
       "      <td>0</td>\n",
       "      <td>0</td>\n",
       "      <td>0</td>\n",
       "      <td>0</td>\n",
       "      <td>...</td>\n",
       "      <td>0</td>\n",
       "      <td>0</td>\n",
       "      <td>0</td>\n",
       "      <td>0</td>\n",
       "      <td>0</td>\n",
       "      <td>0</td>\n",
       "      <td>0</td>\n",
       "      <td>0</td>\n",
       "      <td>0</td>\n",
       "      <td>0</td>\n",
       "    </tr>\n",
       "    <tr>\n",
       "      <th>1</th>\n",
       "      <td>0</td>\n",
       "      <td>9320</td>\n",
       "      <td>location 91</td>\n",
       "      <td>train</td>\n",
       "      <td>0</td>\n",
       "      <td>0</td>\n",
       "      <td>0</td>\n",
       "      <td>0</td>\n",
       "      <td>0</td>\n",
       "      <td>0</td>\n",
       "      <td>...</td>\n",
       "      <td>0</td>\n",
       "      <td>0</td>\n",
       "      <td>0</td>\n",
       "      <td>0</td>\n",
       "      <td>0</td>\n",
       "      <td>0</td>\n",
       "      <td>0</td>\n",
       "      <td>0</td>\n",
       "      <td>0</td>\n",
       "      <td>0</td>\n",
       "    </tr>\n",
       "    <tr>\n",
       "      <th>2</th>\n",
       "      <td>1</td>\n",
       "      <td>14394</td>\n",
       "      <td>location 152</td>\n",
       "      <td>train</td>\n",
       "      <td>0</td>\n",
       "      <td>0</td>\n",
       "      <td>0</td>\n",
       "      <td>0</td>\n",
       "      <td>0</td>\n",
       "      <td>0</td>\n",
       "      <td>...</td>\n",
       "      <td>0</td>\n",
       "      <td>0</td>\n",
       "      <td>0</td>\n",
       "      <td>0</td>\n",
       "      <td>0</td>\n",
       "      <td>0</td>\n",
       "      <td>0</td>\n",
       "      <td>0</td>\n",
       "      <td>0</td>\n",
       "      <td>0</td>\n",
       "    </tr>\n",
       "    <tr>\n",
       "      <th>3</th>\n",
       "      <td>1</td>\n",
       "      <td>8218</td>\n",
       "      <td>location 931</td>\n",
       "      <td>train</td>\n",
       "      <td>0</td>\n",
       "      <td>0</td>\n",
       "      <td>1</td>\n",
       "      <td>0</td>\n",
       "      <td>0</td>\n",
       "      <td>1</td>\n",
       "      <td>...</td>\n",
       "      <td>12</td>\n",
       "      <td>0</td>\n",
       "      <td>0</td>\n",
       "      <td>0</td>\n",
       "      <td>0</td>\n",
       "      <td>0</td>\n",
       "      <td>0</td>\n",
       "      <td>0</td>\n",
       "      <td>0</td>\n",
       "      <td>0</td>\n",
       "    </tr>\n",
       "    <tr>\n",
       "      <th>4</th>\n",
       "      <td>0</td>\n",
       "      <td>14804</td>\n",
       "      <td>location 120</td>\n",
       "      <td>train</td>\n",
       "      <td>0</td>\n",
       "      <td>0</td>\n",
       "      <td>1</td>\n",
       "      <td>0</td>\n",
       "      <td>0</td>\n",
       "      <td>0</td>\n",
       "      <td>...</td>\n",
       "      <td>0</td>\n",
       "      <td>0</td>\n",
       "      <td>0</td>\n",
       "      <td>0</td>\n",
       "      <td>0</td>\n",
       "      <td>0</td>\n",
       "      <td>0</td>\n",
       "      <td>4</td>\n",
       "      <td>0</td>\n",
       "      <td>0</td>\n",
       "    </tr>\n",
       "  </tbody>\n",
       "</table>\n",
       "<p>5 rows × 173 columns</p>\n",
       "</div>"
      ],
      "text/plain": [
       "   fault_severity     id      location source  Remove_x  event_type 10  \\\n",
       "0               1  14121  location 118  train         0              0   \n",
       "1               0   9320   location 91  train         0              0   \n",
       "2               1  14394  location 152  train         0              0   \n",
       "3               1   8218  location 931  train         0              0   \n",
       "4               0  14804  location 120  train         0              0   \n",
       "\n",
       "   event_type 11  event_type 13  event_type 14  event_type 15  \\\n",
       "0              0              0              0              0   \n",
       "1              0              0              0              0   \n",
       "2              0              0              0              0   \n",
       "3              1              0              0              1   \n",
       "4              1              0              0              0   \n",
       "\n",
       "         ...         feature 82  feature 83  feature 85  feature 86  \\\n",
       "0        ...                  0           0           0           0   \n",
       "1        ...                  0           0           0           0   \n",
       "2        ...                  0           0           0           0   \n",
       "3        ...                 12           0           0           0   \n",
       "4        ...                  0           0           0           0   \n",
       "\n",
       "   feature 87  feature 94  feature 95  feature others_0  feature others_1  \\\n",
       "0           0           0           0                 0                 0   \n",
       "1           0           0           0                 0                 0   \n",
       "2           0           0           0                 0                 0   \n",
       "3           0           0           0                 0                 0   \n",
       "4           0           0           0                 4                 0   \n",
       "\n",
       "   feature others_2  \n",
       "0                 0  \n",
       "1                 0  \n",
       "2                 0  \n",
       "3                 0  \n",
       "4                 0  \n",
       "\n",
       "[5 rows x 173 columns]"
      ]
     },
     "execution_count": 32,
     "metadata": {},
     "output_type": "execute_result"
    }
   ],
   "source": [
    "data = data.merge(log_feature_merge, left_on='id', right_index=True)\n",
    "data.head()"
   ]
  },
  {
   "cell_type": "markdown",
   "metadata": {},
   "source": [
    "## Resource Type:"
   ]
  },
  {
   "cell_type": "code",
   "execution_count": 33,
   "metadata": {
    "collapsed": false
   },
   "outputs": [
    {
     "data": {
      "text/plain": [
       "resource_type 8     10268\n",
       "resource_type 2      8918\n",
       "resource_type 6       582\n",
       "resource_type 7       498\n",
       "resource_type 4       330\n",
       "resource_type 9       190\n",
       "resource_type 3       145\n",
       "resource_type 10       73\n",
       "resource_type 1        58\n",
       "resource_type 5        14\n",
       "Name: resource_type, dtype: int64"
      ]
     },
     "execution_count": 33,
     "metadata": {},
     "output_type": "execute_result"
    }
   ],
   "source": [
    "resource_type['resource_type'].value_counts()"
   ]
  },
  {
   "cell_type": "code",
   "execution_count": 34,
   "metadata": {
    "collapsed": false
   },
   "outputs": [
    {
     "data": {
      "text/html": [
       "<div>\n",
       "<table border=\"1\" class=\"dataframe\">\n",
       "  <thead>\n",
       "    <tr style=\"text-align: right;\">\n",
       "      <th></th>\n",
       "      <th>id</th>\n",
       "      <th>resource_type</th>\n",
       "      <th>fault_severity</th>\n",
       "      <th>source</th>\n",
       "    </tr>\n",
       "  </thead>\n",
       "  <tbody>\n",
       "    <tr>\n",
       "      <th>0</th>\n",
       "      <td>6597</td>\n",
       "      <td>resource_type 8</td>\n",
       "      <td>NaN</td>\n",
       "      <td>test</td>\n",
       "    </tr>\n",
       "    <tr>\n",
       "      <th>1</th>\n",
       "      <td>8011</td>\n",
       "      <td>resource_type 8</td>\n",
       "      <td>0</td>\n",
       "      <td>train</td>\n",
       "    </tr>\n",
       "    <tr>\n",
       "      <th>2</th>\n",
       "      <td>2597</td>\n",
       "      <td>resource_type 8</td>\n",
       "      <td>NaN</td>\n",
       "      <td>test</td>\n",
       "    </tr>\n",
       "    <tr>\n",
       "      <th>3</th>\n",
       "      <td>5022</td>\n",
       "      <td>resource_type 8</td>\n",
       "      <td>NaN</td>\n",
       "      <td>test</td>\n",
       "    </tr>\n",
       "    <tr>\n",
       "      <th>4</th>\n",
       "      <td>6852</td>\n",
       "      <td>resource_type 8</td>\n",
       "      <td>NaN</td>\n",
       "      <td>test</td>\n",
       "    </tr>\n",
       "  </tbody>\n",
       "</table>\n",
       "</div>"
      ],
      "text/plain": [
       "     id    resource_type  fault_severity source\n",
       "0  6597  resource_type 8             NaN   test\n",
       "1  8011  resource_type 8               0  train\n",
       "2  2597  resource_type 8             NaN   test\n",
       "3  5022  resource_type 8             NaN   test\n",
       "4  6852  resource_type 8             NaN   test"
      ]
     },
     "execution_count": 34,
     "metadata": {},
     "output_type": "execute_result"
    }
   ],
   "source": [
    "resource_type = resource_type.merge(data[['id','fault_severity','source']], on='id')\n",
    "resource_type.head()"
   ]
  },
  {
   "cell_type": "code",
   "execution_count": 35,
   "metadata": {
    "collapsed": false
   },
   "outputs": [
    {
     "data": {
      "text/html": [
       "<div>\n",
       "<table border=\"1\" class=\"dataframe\">\n",
       "  <thead>\n",
       "    <tr style=\"text-align: right;\">\n",
       "      <th></th>\n",
       "      <th>resource_type</th>\n",
       "    </tr>\n",
       "  </thead>\n",
       "  <tbody>\n",
       "    <tr>\n",
       "      <th>resource_type 8</th>\n",
       "      <td>10268</td>\n",
       "    </tr>\n",
       "    <tr>\n",
       "      <th>resource_type 2</th>\n",
       "      <td>8918</td>\n",
       "    </tr>\n",
       "    <tr>\n",
       "      <th>resource_type 6</th>\n",
       "      <td>582</td>\n",
       "    </tr>\n",
       "    <tr>\n",
       "      <th>resource_type 7</th>\n",
       "      <td>498</td>\n",
       "    </tr>\n",
       "    <tr>\n",
       "      <th>resource_type 4</th>\n",
       "      <td>330</td>\n",
       "    </tr>\n",
       "  </tbody>\n",
       "</table>\n",
       "</div>"
      ],
      "text/plain": [
       "                 resource_type\n",
       "resource_type 8          10268\n",
       "resource_type 2           8918\n",
       "resource_type 6            582\n",
       "resource_type 7            498\n",
       "resource_type 4            330"
      ]
     },
     "execution_count": 35,
     "metadata": {},
     "output_type": "execute_result"
    }
   ],
   "source": [
    "resource_type_unq = pd.DataFrame(resource_type['resource_type'].value_counts())\n",
    "resource_type_unq.head()"
   ]
  },
  {
   "cell_type": "code",
   "execution_count": 36,
   "metadata": {
    "collapsed": false
   },
   "outputs": [
    {
     "data": {
      "text/html": [
       "<div>\n",
       "<table border=\"1\" class=\"dataframe\">\n",
       "  <thead>\n",
       "    <tr style=\"text-align: right;\">\n",
       "      <th></th>\n",
       "      <th>resource_type</th>\n",
       "      <th>PercTrain</th>\n",
       "      <th>Mode_Severity</th>\n",
       "    </tr>\n",
       "  </thead>\n",
       "  <tbody>\n",
       "    <tr>\n",
       "      <th>resource_type 8</th>\n",
       "      <td>10268</td>\n",
       "      <td>0.394527</td>\n",
       "      <td>0</td>\n",
       "    </tr>\n",
       "    <tr>\n",
       "      <th>resource_type 2</th>\n",
       "      <td>8918</td>\n",
       "      <td>0.401996</td>\n",
       "      <td>0</td>\n",
       "    </tr>\n",
       "    <tr>\n",
       "      <th>resource_type 6</th>\n",
       "      <td>582</td>\n",
       "      <td>0.424399</td>\n",
       "      <td>1</td>\n",
       "    </tr>\n",
       "    <tr>\n",
       "      <th>resource_type 7</th>\n",
       "      <td>498</td>\n",
       "      <td>0.451807</td>\n",
       "      <td>0</td>\n",
       "    </tr>\n",
       "    <tr>\n",
       "      <th>resource_type 4</th>\n",
       "      <td>330</td>\n",
       "      <td>0.436364</td>\n",
       "      <td>0</td>\n",
       "    </tr>\n",
       "    <tr>\n",
       "      <th>resource_type 9</th>\n",
       "      <td>190</td>\n",
       "      <td>0.405263</td>\n",
       "      <td>0</td>\n",
       "    </tr>\n",
       "    <tr>\n",
       "      <th>resource_type 3</th>\n",
       "      <td>145</td>\n",
       "      <td>0.400000</td>\n",
       "      <td>1</td>\n",
       "    </tr>\n",
       "    <tr>\n",
       "      <th>resource_type 10</th>\n",
       "      <td>73</td>\n",
       "      <td>0.479452</td>\n",
       "      <td>0</td>\n",
       "    </tr>\n",
       "    <tr>\n",
       "      <th>resource_type 1</th>\n",
       "      <td>58</td>\n",
       "      <td>0.586207</td>\n",
       "      <td>1</td>\n",
       "    </tr>\n",
       "    <tr>\n",
       "      <th>resource_type 5</th>\n",
       "      <td>14</td>\n",
       "      <td>0.285714</td>\n",
       "      <td>2</td>\n",
       "    </tr>\n",
       "  </tbody>\n",
       "</table>\n",
       "</div>"
      ],
      "text/plain": [
       "                  resource_type  PercTrain  Mode_Severity\n",
       "resource_type 8           10268   0.394527              0\n",
       "resource_type 2            8918   0.401996              0\n",
       "resource_type 6             582   0.424399              1\n",
       "resource_type 7             498   0.451807              0\n",
       "resource_type 4             330   0.436364              0\n",
       "resource_type 9             190   0.405263              0\n",
       "resource_type 3             145   0.400000              1\n",
       "resource_type 10             73   0.479452              0\n",
       "resource_type 1              58   0.586207              1\n",
       "resource_type 5              14   0.285714              2"
      ]
     },
     "execution_count": 36,
     "metadata": {},
     "output_type": "execute_result"
    }
   ],
   "source": [
    "#Determine % of training samples:\n",
    "resource_type_unq['PercTrain'] = resource_type.pivot_table(values='source',index='resource_type',aggfunc=lambda x: sum(x=='train')/float(len(x)))\n",
    "resource_type_unq.head()\n",
    "#Determine the mode of each:\n",
    "resource_type_unq['Mode_Severity'] = resource_type.loc[resource_type['source']=='train'].pivot_table(values='fault_severity',index='resource_type', aggfunc=lambda x: mode(x).mode[0])\n",
    "resource_type_unq"
   ]
  },
  {
   "cell_type": "code",
   "execution_count": 37,
   "metadata": {
    "collapsed": false
   },
   "outputs": [
    {
     "data": {
      "text/html": [
       "<div>\n",
       "<table border=\"1\" class=\"dataframe\">\n",
       "  <thead>\n",
       "    <tr style=\"text-align: right;\">\n",
       "      <th></th>\n",
       "      <th>id</th>\n",
       "      <th>resource_type</th>\n",
       "      <th>fault_severity</th>\n",
       "      <th>source</th>\n",
       "    </tr>\n",
       "  </thead>\n",
       "  <tbody>\n",
       "    <tr>\n",
       "      <th>5653</th>\n",
       "      <td>5475</td>\n",
       "      <td>resource_type 5</td>\n",
       "      <td>NaN</td>\n",
       "      <td>test</td>\n",
       "    </tr>\n",
       "    <tr>\n",
       "      <th>5655</th>\n",
       "      <td>5915</td>\n",
       "      <td>resource_type 5</td>\n",
       "      <td>NaN</td>\n",
       "      <td>test</td>\n",
       "    </tr>\n",
       "    <tr>\n",
       "      <th>5657</th>\n",
       "      <td>9989</td>\n",
       "      <td>resource_type 5</td>\n",
       "      <td>NaN</td>\n",
       "      <td>test</td>\n",
       "    </tr>\n",
       "    <tr>\n",
       "      <th>6936</th>\n",
       "      <td>7378</td>\n",
       "      <td>resource_type 5</td>\n",
       "      <td>2</td>\n",
       "      <td>train</td>\n",
       "    </tr>\n",
       "    <tr>\n",
       "      <th>7064</th>\n",
       "      <td>9373</td>\n",
       "      <td>resource_type 5</td>\n",
       "      <td>2</td>\n",
       "      <td>train</td>\n",
       "    </tr>\n",
       "    <tr>\n",
       "      <th>7073</th>\n",
       "      <td>9677</td>\n",
       "      <td>resource_type 5</td>\n",
       "      <td>NaN</td>\n",
       "      <td>test</td>\n",
       "    </tr>\n",
       "    <tr>\n",
       "      <th>7223</th>\n",
       "      <td>6322</td>\n",
       "      <td>resource_type 5</td>\n",
       "      <td>NaN</td>\n",
       "      <td>test</td>\n",
       "    </tr>\n",
       "    <tr>\n",
       "      <th>10786</th>\n",
       "      <td>15655</td>\n",
       "      <td>resource_type 5</td>\n",
       "      <td>NaN</td>\n",
       "      <td>test</td>\n",
       "    </tr>\n",
       "    <tr>\n",
       "      <th>10790</th>\n",
       "      <td>11683</td>\n",
       "      <td>resource_type 5</td>\n",
       "      <td>NaN</td>\n",
       "      <td>test</td>\n",
       "    </tr>\n",
       "    <tr>\n",
       "      <th>10793</th>\n",
       "      <td>1616</td>\n",
       "      <td>resource_type 5</td>\n",
       "      <td>2</td>\n",
       "      <td>train</td>\n",
       "    </tr>\n",
       "    <tr>\n",
       "      <th>14805</th>\n",
       "      <td>78</td>\n",
       "      <td>resource_type 5</td>\n",
       "      <td>NaN</td>\n",
       "      <td>test</td>\n",
       "    </tr>\n",
       "    <tr>\n",
       "      <th>14813</th>\n",
       "      <td>8140</td>\n",
       "      <td>resource_type 5</td>\n",
       "      <td>NaN</td>\n",
       "      <td>test</td>\n",
       "    </tr>\n",
       "    <tr>\n",
       "      <th>17159</th>\n",
       "      <td>3031</td>\n",
       "      <td>resource_type 5</td>\n",
       "      <td>NaN</td>\n",
       "      <td>test</td>\n",
       "    </tr>\n",
       "    <tr>\n",
       "      <th>17988</th>\n",
       "      <td>6981</td>\n",
       "      <td>resource_type 5</td>\n",
       "      <td>2</td>\n",
       "      <td>train</td>\n",
       "    </tr>\n",
       "  </tbody>\n",
       "</table>\n",
       "</div>"
      ],
      "text/plain": [
       "          id    resource_type  fault_severity source\n",
       "5653    5475  resource_type 5             NaN   test\n",
       "5655    5915  resource_type 5             NaN   test\n",
       "5657    9989  resource_type 5             NaN   test\n",
       "6936    7378  resource_type 5               2  train\n",
       "7064    9373  resource_type 5               2  train\n",
       "7073    9677  resource_type 5             NaN   test\n",
       "7223    6322  resource_type 5             NaN   test\n",
       "10786  15655  resource_type 5             NaN   test\n",
       "10790  11683  resource_type 5             NaN   test\n",
       "10793   1616  resource_type 5               2  train\n",
       "14805     78  resource_type 5             NaN   test\n",
       "14813   8140  resource_type 5             NaN   test\n",
       "17159   3031  resource_type 5             NaN   test\n",
       "17988   6981  resource_type 5               2  train"
      ]
     },
     "execution_count": 37,
     "metadata": {},
     "output_type": "execute_result"
    }
   ],
   "source": [
    "resource_type.loc[resource_type['resource_type']=='resource_type 5']"
   ]
  },
  {
   "cell_type": "markdown",
   "metadata": {},
   "source": [
    "Since all are important, we'll leave this as it is:"
   ]
  },
  {
   "cell_type": "code",
   "execution_count": 38,
   "metadata": {
    "collapsed": false
   },
   "outputs": [
    {
     "data": {
      "text/html": [
       "<div>\n",
       "<table border=\"1\" class=\"dataframe\">\n",
       "  <thead>\n",
       "    <tr style=\"text-align: right;\">\n",
       "      <th></th>\n",
       "      <th>fault_severity</th>\n",
       "      <th>id</th>\n",
       "      <th>location</th>\n",
       "      <th>source</th>\n",
       "      <th>Remove_x</th>\n",
       "      <th>event_type 10</th>\n",
       "      <th>event_type 11</th>\n",
       "      <th>event_type 13</th>\n",
       "      <th>event_type 14</th>\n",
       "      <th>event_type 15</th>\n",
       "      <th>...</th>\n",
       "      <th>resource_type 1</th>\n",
       "      <th>resource_type 10</th>\n",
       "      <th>resource_type 2</th>\n",
       "      <th>resource_type 3</th>\n",
       "      <th>resource_type 4</th>\n",
       "      <th>resource_type 5</th>\n",
       "      <th>resource_type 6</th>\n",
       "      <th>resource_type 7</th>\n",
       "      <th>resource_type 8</th>\n",
       "      <th>resource_type 9</th>\n",
       "    </tr>\n",
       "  </thead>\n",
       "  <tbody>\n",
       "    <tr>\n",
       "      <th>0</th>\n",
       "      <td>1</td>\n",
       "      <td>14121</td>\n",
       "      <td>location 118</td>\n",
       "      <td>train</td>\n",
       "      <td>0</td>\n",
       "      <td>0</td>\n",
       "      <td>0</td>\n",
       "      <td>0</td>\n",
       "      <td>0</td>\n",
       "      <td>0</td>\n",
       "      <td>...</td>\n",
       "      <td>0</td>\n",
       "      <td>0</td>\n",
       "      <td>1</td>\n",
       "      <td>0</td>\n",
       "      <td>0</td>\n",
       "      <td>0</td>\n",
       "      <td>0</td>\n",
       "      <td>0</td>\n",
       "      <td>0</td>\n",
       "      <td>0</td>\n",
       "    </tr>\n",
       "    <tr>\n",
       "      <th>1</th>\n",
       "      <td>0</td>\n",
       "      <td>9320</td>\n",
       "      <td>location 91</td>\n",
       "      <td>train</td>\n",
       "      <td>0</td>\n",
       "      <td>0</td>\n",
       "      <td>0</td>\n",
       "      <td>0</td>\n",
       "      <td>0</td>\n",
       "      <td>0</td>\n",
       "      <td>...</td>\n",
       "      <td>0</td>\n",
       "      <td>0</td>\n",
       "      <td>1</td>\n",
       "      <td>0</td>\n",
       "      <td>0</td>\n",
       "      <td>0</td>\n",
       "      <td>0</td>\n",
       "      <td>0</td>\n",
       "      <td>0</td>\n",
       "      <td>0</td>\n",
       "    </tr>\n",
       "    <tr>\n",
       "      <th>2</th>\n",
       "      <td>1</td>\n",
       "      <td>14394</td>\n",
       "      <td>location 152</td>\n",
       "      <td>train</td>\n",
       "      <td>0</td>\n",
       "      <td>0</td>\n",
       "      <td>0</td>\n",
       "      <td>0</td>\n",
       "      <td>0</td>\n",
       "      <td>0</td>\n",
       "      <td>...</td>\n",
       "      <td>0</td>\n",
       "      <td>0</td>\n",
       "      <td>1</td>\n",
       "      <td>0</td>\n",
       "      <td>0</td>\n",
       "      <td>0</td>\n",
       "      <td>0</td>\n",
       "      <td>0</td>\n",
       "      <td>0</td>\n",
       "      <td>0</td>\n",
       "    </tr>\n",
       "    <tr>\n",
       "      <th>3</th>\n",
       "      <td>1</td>\n",
       "      <td>8218</td>\n",
       "      <td>location 931</td>\n",
       "      <td>train</td>\n",
       "      <td>0</td>\n",
       "      <td>0</td>\n",
       "      <td>1</td>\n",
       "      <td>0</td>\n",
       "      <td>0</td>\n",
       "      <td>1</td>\n",
       "      <td>...</td>\n",
       "      <td>0</td>\n",
       "      <td>0</td>\n",
       "      <td>0</td>\n",
       "      <td>0</td>\n",
       "      <td>0</td>\n",
       "      <td>0</td>\n",
       "      <td>0</td>\n",
       "      <td>0</td>\n",
       "      <td>1</td>\n",
       "      <td>0</td>\n",
       "    </tr>\n",
       "    <tr>\n",
       "      <th>4</th>\n",
       "      <td>0</td>\n",
       "      <td>14804</td>\n",
       "      <td>location 120</td>\n",
       "      <td>train</td>\n",
       "      <td>0</td>\n",
       "      <td>0</td>\n",
       "      <td>1</td>\n",
       "      <td>0</td>\n",
       "      <td>0</td>\n",
       "      <td>0</td>\n",
       "      <td>...</td>\n",
       "      <td>0</td>\n",
       "      <td>0</td>\n",
       "      <td>1</td>\n",
       "      <td>0</td>\n",
       "      <td>0</td>\n",
       "      <td>0</td>\n",
       "      <td>0</td>\n",
       "      <td>0</td>\n",
       "      <td>1</td>\n",
       "      <td>0</td>\n",
       "    </tr>\n",
       "  </tbody>\n",
       "</table>\n",
       "<p>5 rows × 183 columns</p>\n",
       "</div>"
      ],
      "text/plain": [
       "   fault_severity     id      location source  Remove_x  event_type 10  \\\n",
       "0               1  14121  location 118  train         0              0   \n",
       "1               0   9320   location 91  train         0              0   \n",
       "2               1  14394  location 152  train         0              0   \n",
       "3               1   8218  location 931  train         0              0   \n",
       "4               0  14804  location 120  train         0              0   \n",
       "\n",
       "   event_type 11  event_type 13  event_type 14  event_type 15  \\\n",
       "0              0              0              0              0   \n",
       "1              0              0              0              0   \n",
       "2              0              0              0              0   \n",
       "3              1              0              0              1   \n",
       "4              1              0              0              0   \n",
       "\n",
       "        ...         resource_type 1  resource_type 10  resource_type 2  \\\n",
       "0       ...                       0                 0                1   \n",
       "1       ...                       0                 0                1   \n",
       "2       ...                       0                 0                1   \n",
       "3       ...                       0                 0                0   \n",
       "4       ...                       0                 0                1   \n",
       "\n",
       "   resource_type 3  resource_type 4  resource_type 5  resource_type 6  \\\n",
       "0                0                0                0                0   \n",
       "1                0                0                0                0   \n",
       "2                0                0                0                0   \n",
       "3                0                0                0                0   \n",
       "4                0                0                0                0   \n",
       "\n",
       "   resource_type 7  resource_type 8  resource_type 9  \n",
       "0                0                0                0  \n",
       "1                0                0                0  \n",
       "2                0                0                0  \n",
       "3                0                1                0  \n",
       "4                0                1                0  \n",
       "\n",
       "[5 rows x 183 columns]"
      ]
     },
     "execution_count": 38,
     "metadata": {},
     "output_type": "execute_result"
    }
   ],
   "source": [
    "resource_type_merge = resource_type.pivot_table(values='source',index='id',columns='resource_type',aggfunc=lambda x: len(x), fill_value=0)\n",
    "# resource_type_merge.shape\n",
    "data = data.merge(resource_type_merge, left_on='id', right_index=True)\n",
    "data.head()"
   ]
  },
  {
   "cell_type": "code",
   "execution_count": 39,
   "metadata": {
    "collapsed": false
   },
   "outputs": [
    {
     "data": {
      "text/plain": [
       "(18552, 183)"
      ]
     },
     "execution_count": 39,
     "metadata": {},
     "output_type": "execute_result"
    }
   ],
   "source": [
    "data.shape"
   ]
  },
  {
   "cell_type": "markdown",
   "metadata": {},
   "source": [
    "## Severity Type:"
   ]
  },
  {
   "cell_type": "code",
   "execution_count": 40,
   "metadata": {
    "collapsed": false
   },
   "outputs": [
    {
     "data": {
      "text/plain": [
       "severity_type 2    8737\n",
       "severity_type 1    8728\n",
       "severity_type 4    1014\n",
       "severity_type 5      65\n",
       "severity_type 3       8\n",
       "Name: severity_type, dtype: int64"
      ]
     },
     "execution_count": 40,
     "metadata": {},
     "output_type": "execute_result"
    }
   ],
   "source": [
    "severity_type['severity_type'].value_counts()"
   ]
  },
  {
   "cell_type": "code",
   "execution_count": 41,
   "metadata": {
    "collapsed": false
   },
   "outputs": [
    {
     "data": {
      "text/html": [
       "<div>\n",
       "<table border=\"1\" class=\"dataframe\">\n",
       "  <thead>\n",
       "    <tr style=\"text-align: right;\">\n",
       "      <th></th>\n",
       "      <th>id</th>\n",
       "      <th>severity_type</th>\n",
       "      <th>fault_severity</th>\n",
       "      <th>source</th>\n",
       "    </tr>\n",
       "  </thead>\n",
       "  <tbody>\n",
       "    <tr>\n",
       "      <th>0</th>\n",
       "      <td>6597</td>\n",
       "      <td>severity_type 2</td>\n",
       "      <td>NaN</td>\n",
       "      <td>test</td>\n",
       "    </tr>\n",
       "    <tr>\n",
       "      <th>1</th>\n",
       "      <td>8011</td>\n",
       "      <td>severity_type 2</td>\n",
       "      <td>0</td>\n",
       "      <td>train</td>\n",
       "    </tr>\n",
       "    <tr>\n",
       "      <th>2</th>\n",
       "      <td>2597</td>\n",
       "      <td>severity_type 2</td>\n",
       "      <td>NaN</td>\n",
       "      <td>test</td>\n",
       "    </tr>\n",
       "    <tr>\n",
       "      <th>3</th>\n",
       "      <td>5022</td>\n",
       "      <td>severity_type 1</td>\n",
       "      <td>NaN</td>\n",
       "      <td>test</td>\n",
       "    </tr>\n",
       "    <tr>\n",
       "      <th>4</th>\n",
       "      <td>6852</td>\n",
       "      <td>severity_type 1</td>\n",
       "      <td>NaN</td>\n",
       "      <td>test</td>\n",
       "    </tr>\n",
       "  </tbody>\n",
       "</table>\n",
       "</div>"
      ],
      "text/plain": [
       "     id    severity_type  fault_severity source\n",
       "0  6597  severity_type 2             NaN   test\n",
       "1  8011  severity_type 2               0  train\n",
       "2  2597  severity_type 2             NaN   test\n",
       "3  5022  severity_type 1             NaN   test\n",
       "4  6852  severity_type 1             NaN   test"
      ]
     },
     "execution_count": 41,
     "metadata": {},
     "output_type": "execute_result"
    }
   ],
   "source": [
    "severity_type = severity_type.merge(data[['id','fault_severity','source']], on='id')\n",
    "severity_type.head()"
   ]
  },
  {
   "cell_type": "code",
   "execution_count": 42,
   "metadata": {
    "collapsed": false
   },
   "outputs": [
    {
     "data": {
      "text/html": [
       "<div>\n",
       "<table border=\"1\" class=\"dataframe\">\n",
       "  <thead>\n",
       "    <tr style=\"text-align: right;\">\n",
       "      <th></th>\n",
       "      <th>severity_type</th>\n",
       "    </tr>\n",
       "  </thead>\n",
       "  <tbody>\n",
       "    <tr>\n",
       "      <th>severity_type 2</th>\n",
       "      <td>8737</td>\n",
       "    </tr>\n",
       "    <tr>\n",
       "      <th>severity_type 1</th>\n",
       "      <td>8728</td>\n",
       "    </tr>\n",
       "    <tr>\n",
       "      <th>severity_type 4</th>\n",
       "      <td>1014</td>\n",
       "    </tr>\n",
       "    <tr>\n",
       "      <th>severity_type 5</th>\n",
       "      <td>65</td>\n",
       "    </tr>\n",
       "    <tr>\n",
       "      <th>severity_type 3</th>\n",
       "      <td>8</td>\n",
       "    </tr>\n",
       "  </tbody>\n",
       "</table>\n",
       "</div>"
      ],
      "text/plain": [
       "                 severity_type\n",
       "severity_type 2           8737\n",
       "severity_type 1           8728\n",
       "severity_type 4           1014\n",
       "severity_type 5             65\n",
       "severity_type 3              8"
      ]
     },
     "execution_count": 42,
     "metadata": {},
     "output_type": "execute_result"
    }
   ],
   "source": [
    "severity_type_unq = pd.DataFrame(severity_type['severity_type'].value_counts())\n",
    "severity_type_unq.head()"
   ]
  },
  {
   "cell_type": "code",
   "execution_count": 43,
   "metadata": {
    "collapsed": false
   },
   "outputs": [
    {
     "data": {
      "text/html": [
       "<div>\n",
       "<table border=\"1\" class=\"dataframe\">\n",
       "  <thead>\n",
       "    <tr style=\"text-align: right;\">\n",
       "      <th></th>\n",
       "      <th>severity_type</th>\n",
       "      <th>PercTrain</th>\n",
       "      <th>Mode_Severity</th>\n",
       "    </tr>\n",
       "  </thead>\n",
       "  <tbody>\n",
       "    <tr>\n",
       "      <th>severity_type 2</th>\n",
       "      <td>8737</td>\n",
       "      <td>0.411011</td>\n",
       "      <td>0</td>\n",
       "    </tr>\n",
       "    <tr>\n",
       "      <th>severity_type 1</th>\n",
       "      <td>8728</td>\n",
       "      <td>0.386687</td>\n",
       "      <td>0</td>\n",
       "    </tr>\n",
       "    <tr>\n",
       "      <th>severity_type 4</th>\n",
       "      <td>1014</td>\n",
       "      <td>0.382643</td>\n",
       "      <td>0</td>\n",
       "    </tr>\n",
       "    <tr>\n",
       "      <th>severity_type 5</th>\n",
       "      <td>65</td>\n",
       "      <td>0.353846</td>\n",
       "      <td>0</td>\n",
       "    </tr>\n",
       "    <tr>\n",
       "      <th>severity_type 3</th>\n",
       "      <td>8</td>\n",
       "      <td>0.500000</td>\n",
       "      <td>0</td>\n",
       "    </tr>\n",
       "  </tbody>\n",
       "</table>\n",
       "</div>"
      ],
      "text/plain": [
       "                 severity_type  PercTrain  Mode_Severity\n",
       "severity_type 2           8737   0.411011              0\n",
       "severity_type 1           8728   0.386687              0\n",
       "severity_type 4           1014   0.382643              0\n",
       "severity_type 5             65   0.353846              0\n",
       "severity_type 3              8   0.500000              0"
      ]
     },
     "execution_count": 43,
     "metadata": {},
     "output_type": "execute_result"
    }
   ],
   "source": [
    "#Determine % of training samples:\n",
    "severity_type_unq['PercTrain'] = severity_type.pivot_table(values='source',index='severity_type',aggfunc=lambda x: sum(x=='train')/float(len(x)))\n",
    "severity_type_unq.head()\n",
    "#Determine the mode of each:\n",
    "severity_type_unq['Mode_Severity'] = severity_type.loc[severity_type['source']=='train'].pivot_table(values='fault_severity',index='severity_type', aggfunc=lambda x: mode(x).mode[0])\n",
    "severity_type_unq"
   ]
  },
  {
   "cell_type": "code",
   "execution_count": 44,
   "metadata": {
    "collapsed": false
   },
   "outputs": [
    {
     "data": {
      "text/plain": [
       "severity_type\n",
       "severity_type 1     ([0.0], [693.0])\n",
       "severity_type 2    ([0.0], [1085.0])\n",
       "severity_type 3       ([0.0], [3.0])\n",
       "severity_type 4     ([0.0], [156.0])\n",
       "severity_type 5       ([0.0], [5.0])\n",
       "Name: fault_severity, dtype: object"
      ]
     },
     "execution_count": 44,
     "metadata": {},
     "output_type": "execute_result"
    }
   ],
   "source": [
    "severity_type.loc[event_type['source']=='train'].pivot_table(values='fault_severity',index='severity_type', aggfunc=lambda x: mode(x))"
   ]
  },
  {
   "cell_type": "code",
   "execution_count": 45,
   "metadata": {
    "collapsed": true
   },
   "outputs": [],
   "source": [
    "#Merge last two:\n",
    "# severity_type.loc[severity_type['severity_type']=='severity_type 3','severity_type'] = 'severity_type 5'"
   ]
  },
  {
   "cell_type": "code",
   "execution_count": 46,
   "metadata": {
    "collapsed": false
   },
   "outputs": [
    {
     "data": {
      "text/html": [
       "<div>\n",
       "<table border=\"1\" class=\"dataframe\">\n",
       "  <thead>\n",
       "    <tr style=\"text-align: right;\">\n",
       "      <th>preprocess</th>\n",
       "      <th>Remove</th>\n",
       "      <th>event_type 10</th>\n",
       "      <th>event_type 11</th>\n",
       "      <th>event_type 13</th>\n",
       "      <th>event_type 14</th>\n",
       "      <th>event_type 15</th>\n",
       "      <th>event_type 18</th>\n",
       "      <th>event_type 2</th>\n",
       "      <th>event_type 20</th>\n",
       "      <th>event_type 21</th>\n",
       "      <th>...</th>\n",
       "      <th>event_type 47</th>\n",
       "      <th>event_type 5</th>\n",
       "      <th>event_type 50</th>\n",
       "      <th>event_type 54</th>\n",
       "      <th>event_type 6</th>\n",
       "      <th>event_type 7</th>\n",
       "      <th>event_type 8</th>\n",
       "      <th>event_type others_0</th>\n",
       "      <th>event_type others_1</th>\n",
       "      <th>event_type others_2</th>\n",
       "    </tr>\n",
       "    <tr>\n",
       "      <th>id</th>\n",
       "      <th></th>\n",
       "      <th></th>\n",
       "      <th></th>\n",
       "      <th></th>\n",
       "      <th></th>\n",
       "      <th></th>\n",
       "      <th></th>\n",
       "      <th></th>\n",
       "      <th></th>\n",
       "      <th></th>\n",
       "      <th></th>\n",
       "      <th></th>\n",
       "      <th></th>\n",
       "      <th></th>\n",
       "      <th></th>\n",
       "      <th></th>\n",
       "      <th></th>\n",
       "      <th></th>\n",
       "      <th></th>\n",
       "      <th></th>\n",
       "      <th></th>\n",
       "    </tr>\n",
       "  </thead>\n",
       "  <tbody>\n",
       "    <tr>\n",
       "      <th>1</th>\n",
       "      <td>0</td>\n",
       "      <td>0</td>\n",
       "      <td>1</td>\n",
       "      <td>1</td>\n",
       "      <td>0</td>\n",
       "      <td>0</td>\n",
       "      <td>0</td>\n",
       "      <td>0</td>\n",
       "      <td>0</td>\n",
       "      <td>0</td>\n",
       "      <td>...</td>\n",
       "      <td>0</td>\n",
       "      <td>0</td>\n",
       "      <td>0</td>\n",
       "      <td>0</td>\n",
       "      <td>0</td>\n",
       "      <td>0</td>\n",
       "      <td>0</td>\n",
       "      <td>0</td>\n",
       "      <td>0</td>\n",
       "      <td>0</td>\n",
       "    </tr>\n",
       "    <tr>\n",
       "      <th>2</th>\n",
       "      <td>0</td>\n",
       "      <td>0</td>\n",
       "      <td>0</td>\n",
       "      <td>0</td>\n",
       "      <td>0</td>\n",
       "      <td>0</td>\n",
       "      <td>0</td>\n",
       "      <td>0</td>\n",
       "      <td>0</td>\n",
       "      <td>0</td>\n",
       "      <td>...</td>\n",
       "      <td>0</td>\n",
       "      <td>0</td>\n",
       "      <td>0</td>\n",
       "      <td>0</td>\n",
       "      <td>0</td>\n",
       "      <td>0</td>\n",
       "      <td>0</td>\n",
       "      <td>0</td>\n",
       "      <td>0</td>\n",
       "      <td>0</td>\n",
       "    </tr>\n",
       "    <tr>\n",
       "      <th>3</th>\n",
       "      <td>0</td>\n",
       "      <td>0</td>\n",
       "      <td>1</td>\n",
       "      <td>0</td>\n",
       "      <td>0</td>\n",
       "      <td>0</td>\n",
       "      <td>0</td>\n",
       "      <td>0</td>\n",
       "      <td>0</td>\n",
       "      <td>0</td>\n",
       "      <td>...</td>\n",
       "      <td>0</td>\n",
       "      <td>0</td>\n",
       "      <td>0</td>\n",
       "      <td>0</td>\n",
       "      <td>0</td>\n",
       "      <td>0</td>\n",
       "      <td>0</td>\n",
       "      <td>0</td>\n",
       "      <td>0</td>\n",
       "      <td>0</td>\n",
       "    </tr>\n",
       "    <tr>\n",
       "      <th>4</th>\n",
       "      <td>0</td>\n",
       "      <td>0</td>\n",
       "      <td>0</td>\n",
       "      <td>0</td>\n",
       "      <td>0</td>\n",
       "      <td>0</td>\n",
       "      <td>0</td>\n",
       "      <td>0</td>\n",
       "      <td>0</td>\n",
       "      <td>0</td>\n",
       "      <td>...</td>\n",
       "      <td>1</td>\n",
       "      <td>0</td>\n",
       "      <td>0</td>\n",
       "      <td>0</td>\n",
       "      <td>0</td>\n",
       "      <td>0</td>\n",
       "      <td>0</td>\n",
       "      <td>0</td>\n",
       "      <td>0</td>\n",
       "      <td>0</td>\n",
       "    </tr>\n",
       "    <tr>\n",
       "      <th>5</th>\n",
       "      <td>0</td>\n",
       "      <td>0</td>\n",
       "      <td>0</td>\n",
       "      <td>0</td>\n",
       "      <td>0</td>\n",
       "      <td>0</td>\n",
       "      <td>0</td>\n",
       "      <td>0</td>\n",
       "      <td>0</td>\n",
       "      <td>0</td>\n",
       "      <td>...</td>\n",
       "      <td>0</td>\n",
       "      <td>0</td>\n",
       "      <td>0</td>\n",
       "      <td>0</td>\n",
       "      <td>0</td>\n",
       "      <td>0</td>\n",
       "      <td>0</td>\n",
       "      <td>0</td>\n",
       "      <td>0</td>\n",
       "      <td>0</td>\n",
       "    </tr>\n",
       "  </tbody>\n",
       "</table>\n",
       "<p>5 rows × 37 columns</p>\n",
       "</div>"
      ],
      "text/plain": [
       "preprocess  Remove  event_type 10  event_type 11  event_type 13  \\\n",
       "id                                                                \n",
       "1                0              0              1              1   \n",
       "2                0              0              0              0   \n",
       "3                0              0              1              0   \n",
       "4                0              0              0              0   \n",
       "5                0              0              0              0   \n",
       "\n",
       "preprocess  event_type 14  event_type 15  event_type 18  event_type 2  \\\n",
       "id                                                                      \n",
       "1                       0              0              0             0   \n",
       "2                       0              0              0             0   \n",
       "3                       0              0              0             0   \n",
       "4                       0              0              0             0   \n",
       "5                       0              0              0             0   \n",
       "\n",
       "preprocess  event_type 20  event_type 21         ...           event_type 47  \\\n",
       "id                                               ...                           \n",
       "1                       0              0         ...                       0   \n",
       "2                       0              0         ...                       0   \n",
       "3                       0              0         ...                       0   \n",
       "4                       0              0         ...                       1   \n",
       "5                       0              0         ...                       0   \n",
       "\n",
       "preprocess  event_type 5  event_type 50  event_type 54  event_type 6  \\\n",
       "id                                                                     \n",
       "1                      0              0              0             0   \n",
       "2                      0              0              0             0   \n",
       "3                      0              0              0             0   \n",
       "4                      0              0              0             0   \n",
       "5                      0              0              0             0   \n",
       "\n",
       "preprocess  event_type 7  event_type 8  event_type others_0  \\\n",
       "id                                                            \n",
       "1                      0             0                    0   \n",
       "2                      0             0                    0   \n",
       "3                      0             0                    0   \n",
       "4                      0             0                    0   \n",
       "5                      0             0                    0   \n",
       "\n",
       "preprocess  event_type others_1  event_type others_2  \n",
       "id                                                    \n",
       "1                             0                    0  \n",
       "2                             0                    0  \n",
       "3                             0                    0  \n",
       "4                             0                    0  \n",
       "5                             0                    0  \n",
       "\n",
       "[5 rows x 37 columns]"
      ]
     },
     "execution_count": 46,
     "metadata": {},
     "output_type": "execute_result"
    }
   ],
   "source": [
    "severity_type_merge = severity_type.pivot_table(values='source',index='id',columns='severity_type',aggfunc=lambda x: len(x), fill_value=0)\n",
    "event_type_merge.head()"
   ]
  },
  {
   "cell_type": "code",
   "execution_count": 47,
   "metadata": {
    "collapsed": false
   },
   "outputs": [
    {
     "data": {
      "text/plain": [
       "(   fault_severity     id      location source  Remove_x  event_type 10  \\\n",
       " 0               1  14121  location 118  train         0              0   \n",
       " 1               0   9320   location 91  train         0              0   \n",
       " 2               1  14394  location 152  train         0              0   \n",
       " 3               1   8218  location 931  train         0              0   \n",
       " 4               0  14804  location 120  train         0              0   \n",
       " \n",
       "    event_type 11  event_type 13  event_type 14  event_type 15  \\\n",
       " 0              0              0              0              0   \n",
       " 1              0              0              0              0   \n",
       " 2              0              0              0              0   \n",
       " 3              1              0              0              1   \n",
       " 4              1              0              0              0   \n",
       " \n",
       "         ...         resource_type 5  resource_type 6  resource_type 7  \\\n",
       " 0       ...                       0                0                0   \n",
       " 1       ...                       0                0                0   \n",
       " 2       ...                       0                0                0   \n",
       " 3       ...                       0                0                0   \n",
       " 4       ...                       0                0                0   \n",
       " \n",
       "    resource_type 8  resource_type 9  severity_type 1  severity_type 2  \\\n",
       " 0                0                0                0                1   \n",
       " 1                0                0                0                1   \n",
       " 2                0                0                0                1   \n",
       " 3                1                0                1                0   \n",
       " 4                1                0                1                0   \n",
       " \n",
       "    severity_type 3  severity_type 4  severity_type 5  \n",
       " 0                0                0                0  \n",
       " 1                0                0                0  \n",
       " 2                0                0                0  \n",
       " 3                0                0                0  \n",
       " 4                0                0                0  \n",
       " \n",
       " [5 rows x 188 columns], (18552, 188))"
      ]
     },
     "execution_count": 47,
     "metadata": {},
     "output_type": "execute_result"
    }
   ],
   "source": [
    "data = data.merge(severity_type_merge, left_on='id', right_index=True)\n",
    "data.head(), data.shape"
   ]
  },
  {
   "cell_type": "code",
   "execution_count": 48,
   "metadata": {
    "collapsed": false
   },
   "outputs": [
    {
     "data": {
      "text/plain": [
       "fault_severity      float64\n",
       "id                    int64\n",
       "location             object\n",
       "source               object\n",
       "Remove_x              int64\n",
       "event_type 10         int64\n",
       "event_type 11         int64\n",
       "event_type 13         int64\n",
       "event_type 14         int64\n",
       "event_type 15         int64\n",
       "event_type 18         int64\n",
       "event_type 2          int64\n",
       "event_type 20         int64\n",
       "event_type 21         int64\n",
       "event_type 22         int64\n",
       "event_type 23         int64\n",
       "event_type 24         int64\n",
       "event_type 26         int64\n",
       "event_type 27         int64\n",
       "event_type 28         int64\n",
       "event_type 29         int64\n",
       "event_type 30         int64\n",
       "event_type 32         int64\n",
       "event_type 34         int64\n",
       "event_type 35         int64\n",
       "event_type 40         int64\n",
       "event_type 42         int64\n",
       "event_type 43         int64\n",
       "event_type 44         int64\n",
       "event_type 45         int64\n",
       "                     ...   \n",
       "feature 75            int64\n",
       "feature 76            int64\n",
       "feature 8             int64\n",
       "feature 80            int64\n",
       "feature 81            int64\n",
       "feature 82            int64\n",
       "feature 83            int64\n",
       "feature 85            int64\n",
       "feature 86            int64\n",
       "feature 87            int64\n",
       "feature 94            int64\n",
       "feature 95            int64\n",
       "feature others_0      int64\n",
       "feature others_1      int64\n",
       "feature others_2      int64\n",
       "resource_type 1       int64\n",
       "resource_type 10      int64\n",
       "resource_type 2       int64\n",
       "resource_type 3       int64\n",
       "resource_type 4       int64\n",
       "resource_type 5       int64\n",
       "resource_type 6       int64\n",
       "resource_type 7       int64\n",
       "resource_type 8       int64\n",
       "resource_type 9       int64\n",
       "severity_type 1       int64\n",
       "severity_type 2       int64\n",
       "severity_type 3       int64\n",
       "severity_type 4       int64\n",
       "severity_type 5       int64\n",
       "dtype: object"
      ]
     },
     "execution_count": 48,
     "metadata": {},
     "output_type": "execute_result"
    }
   ],
   "source": [
    "data.dtypes"
   ]
  },
  {
   "cell_type": "code",
   "execution_count": 49,
   "metadata": {
    "collapsed": false
   },
   "outputs": [
    {
     "name": "stdout",
     "output_type": "stream",
     "text": [
      "(31170, 6)\n"
     ]
    },
    {
     "data": {
      "text/plain": [
       "31164"
      ]
     },
     "execution_count": 49,
     "metadata": {},
     "output_type": "execute_result"
    }
   ],
   "source": [
    "pred_event = [x for x in data.columns if 'event_type' in x]\n",
    "print event_type.shape\n",
    "data[pred_event].sum().sum()"
   ]
  },
  {
   "cell_type": "code",
   "execution_count": 50,
   "metadata": {
    "collapsed": false
   },
   "outputs": [
    {
     "name": "stdout",
     "output_type": "stream",
     "text": [
      "568246\n"
     ]
    },
    {
     "data": {
      "text/plain": [
       "567969"
      ]
     },
     "execution_count": 50,
     "metadata": {},
     "output_type": "execute_result"
    }
   ],
   "source": [
    "pred_feat = [x for x in data.columns if 'feature' in x]\n",
    "print log_feature['volume'].sum()\n",
    "data[pred_feat].sum().sum()"
   ]
  },
  {
   "cell_type": "code",
   "execution_count": 51,
   "metadata": {
    "collapsed": false
   },
   "outputs": [
    {
     "name": "stdout",
     "output_type": "stream",
     "text": [
      "(21076, 4)\n"
     ]
    },
    {
     "data": {
      "text/plain": [
       "21076"
      ]
     },
     "execution_count": 51,
     "metadata": {},
     "output_type": "execute_result"
    }
   ],
   "source": [
    "pred_res = [x for x in data.columns if 'resource' in x]\n",
    "print resource_type.shape\n",
    "data[pred_res].sum().sum()"
   ]
  },
  {
   "cell_type": "code",
   "execution_count": 52,
   "metadata": {
    "collapsed": false
   },
   "outputs": [
    {
     "name": "stdout",
     "output_type": "stream",
     "text": [
      "(18552, 4)\n"
     ]
    },
    {
     "data": {
      "text/plain": [
       "18552"
      ]
     },
     "execution_count": 52,
     "metadata": {},
     "output_type": "execute_result"
    }
   ],
   "source": [
    "pred_sev = [x for x in data.columns if 'severity_type' in x]\n",
    "print severity_type.shape\n",
    "data[pred_sev].sum().sum()"
   ]
  },
  {
   "cell_type": "markdown",
   "metadata": {},
   "source": [
    "## Add count variables:"
   ]
  },
  {
   "cell_type": "code",
   "execution_count": 53,
   "metadata": {
    "collapsed": false
   },
   "outputs": [],
   "source": [
    "#Location Count:\n",
    "location_count = data['location'].value_counts()\n",
    "data['location_count'] = data['location'].apply(lambda x: location_count[x])"
   ]
  },
  {
   "cell_type": "code",
   "execution_count": 67,
   "metadata": {
    "collapsed": false
   },
   "outputs": [
    {
     "data": {
      "text/plain": [
       "1126"
      ]
     },
     "execution_count": 67,
     "metadata": {},
     "output_type": "execute_result"
    }
   ],
   "source": [
    "len(location_count)"
   ]
  },
  {
   "cell_type": "code",
   "execution_count": 54,
   "metadata": {
    "collapsed": false
   },
   "outputs": [
    {
     "data": {
      "text/plain": [
       "567969"
      ]
     },
     "execution_count": 54,
     "metadata": {},
     "output_type": "execute_result"
    }
   ],
   "source": [
    "#Feature Count:\n",
    "featvar = [x for x in data.columns if 'feature ' in x]\n",
    "data['feature_count'] = data[featvar].apply(np.sum, axis=1)\n",
    "data['feature_count'].sum()"
   ]
  },
  {
   "cell_type": "code",
   "execution_count": 55,
   "metadata": {
    "collapsed": false
   },
   "outputs": [],
   "source": [
    "# Convert location to numeric:\n",
    "le = LabelEncoder()\n",
    "data['location'] = le.fit_transform(data['location'])"
   ]
  },
  {
   "cell_type": "markdown",
   "metadata": {},
   "source": [
    "## Remove extra columns and split:"
   ]
  },
  {
   "cell_type": "code",
   "execution_count": 56,
   "metadata": {
    "collapsed": false
   },
   "outputs": [
    {
     "data": {
      "text/plain": [
       "['Remove_x', 'Remove_y']"
      ]
     },
     "execution_count": 56,
     "metadata": {},
     "output_type": "execute_result"
    }
   ],
   "source": [
    "[x for x in data.columns if 'Remove' in x]"
   ]
  },
  {
   "cell_type": "code",
   "execution_count": 57,
   "metadata": {
    "collapsed": false
   },
   "outputs": [],
   "source": [
    "data.drop(['Remove_x','Remove_y'],axis=1,inplace=True)"
   ]
  },
  {
   "cell_type": "code",
   "execution_count": 58,
   "metadata": {
    "collapsed": false
   },
   "outputs": [],
   "source": [
    "train_mod = data.loc[data['source']=='train']\n",
    "test_mod = data.loc[data['source']=='test']"
   ]
  },
  {
   "cell_type": "code",
   "execution_count": 59,
   "metadata": {
    "collapsed": false
   },
   "outputs": [
    {
     "name": "stderr",
     "output_type": "stream",
     "text": [
      "/Users/aarshay/anaconda/lib/python2.7/site-packages/ipykernel/__main__.py:1: SettingWithCopyWarning: \n",
      "A value is trying to be set on a copy of a slice from a DataFrame\n",
      "\n",
      "See the caveats in the documentation: http://pandas.pydata.org/pandas-docs/stable/indexing.html#indexing-view-versus-copy\n",
      "  if __name__ == '__main__':\n",
      "/Users/aarshay/anaconda/lib/python2.7/site-packages/ipykernel/__main__.py:2: SettingWithCopyWarning: \n",
      "A value is trying to be set on a copy of a slice from a DataFrame\n",
      "\n",
      "See the caveats in the documentation: http://pandas.pydata.org/pandas-docs/stable/indexing.html#indexing-view-versus-copy\n",
      "  from ipykernel import kernelapp as app\n"
     ]
    }
   ],
   "source": [
    "train_mod.drop('source',axis=1,inplace=True)\n",
    "test_mod.drop(['source','fault_severity'],axis=1,inplace=True)"
   ]
  },
  {
   "cell_type": "markdown",
   "metadata": {},
   "source": [
    "Check sequence of IDs"
   ]
  },
  {
   "cell_type": "code",
   "execution_count": 60,
   "metadata": {
    "collapsed": false
   },
   "outputs": [
    {
     "name": "stdout",
     "output_type": "stream",
     "text": [
      "0\n",
      "0\n"
     ]
    }
   ],
   "source": [
    "print sum(train['id'] != train_mod['id'])\n",
    "print sum(test['id'] != test_mod['id'])"
   ]
  },
  {
   "cell_type": "code",
   "execution_count": 61,
   "metadata": {
    "collapsed": true
   },
   "outputs": [],
   "source": [
    "train_mod.to_csv('data/train_modified_5.csv',index=False)\n",
    "test_mod.to_csv('data/test_modified_5.csv',index=False)"
   ]
  }
 ],
 "metadata": {
  "kernelspec": {
   "display_name": "Python 2",
   "language": "python",
   "name": "python2"
  },
  "language_info": {
   "codemirror_mode": {
    "name": "ipython",
    "version": 2
   },
   "file_extension": ".py",
   "mimetype": "text/x-python",
   "name": "python",
   "nbconvert_exporter": "python",
   "pygments_lexer": "ipython2",
   "version": "2.7.11"
  }
 },
 "nbformat": 4,
 "nbformat_minor": 0
}
