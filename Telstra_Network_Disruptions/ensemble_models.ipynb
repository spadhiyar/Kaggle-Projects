{
 "cells": [
  {
   "cell_type": "code",
   "execution_count": 1,
   "metadata": {
    "collapsed": true
   },
   "outputs": [],
   "source": [
    "import pandas as pd\n",
    "import numpy as np\n",
    "\n",
    "%matplotlib inline\n",
    "from matplotlib.pylab import rcParams\n",
    "rcParams['figure.figsize'] = 16, 4"
   ]
  },
  {
   "cell_type": "markdown",
   "metadata": {},
   "source": [
    "## Combine 2 models:"
   ]
  },
  {
   "cell_type": "code",
   "execution_count": 2,
   "metadata": {
    "collapsed": true
   },
   "outputs": [],
   "source": [
    "def combine_models(file1, file2, newfile, weights=(0.5,0.5)):\n",
    "    f1 = pd.read_csv(file1)\n",
    "    f2 = pd.read_csv(file2)\n",
    "    f1 = f1.merge(f2,on='id')\n",
    "    f = pd.DataFrame(f1['id'])\n",
    "    f['predict_0'] = f1.apply(lambda x: x['predict_0_x']*weights[0] + x['predict_0_y']*weights[1] ,axis=1)\n",
    "    f['predict_1'] = f1.apply(lambda x: x['predict_1_x']*weights[0] + x['predict_1_y']*weights[1] ,axis=1)\n",
    "    f['predict_2'] = f1.apply(lambda x: x['predict_2_x']*weights[0] + x['predict_2_y']*weights[1] ,axis=1)\n",
    "    f.to_csv(newfile,index=False)"
   ]
  },
  {
   "cell_type": "code",
   "execution_count": 9,
   "metadata": {
    "collapsed": false
   },
   "outputs": [],
   "source": [
    "#combine gbm_15 and xgb8_mod5\n",
    "combine_models('submissions/gbm15.csv','submissions/xgb8_mod5.csv','submissions/gbm15+xgb8_mod5.csv',weights=(0.7,0.3))\n",
    "#score: 0.51374"
   ]
  },
  {
   "cell_type": "code",
   "execution_count": 10,
   "metadata": {
    "collapsed": true
   },
   "outputs": [],
   "source": [
    "#combine gbm_15 and xgb8_mod5\n",
    "combine_models('submissions/gbm15.csv','submissions/xgb8_mod5.csv','submissions/gbm15+xgb8_mod5_9-1.csv',weights=(0.9,0.1))\n",
    "#score: 0.52040"
   ]
  },
  {
   "cell_type": "code",
   "execution_count": 3,
   "metadata": {
    "collapsed": true
   },
   "outputs": [],
   "source": [
    "#combine xgb8_mod6 and xgb8_mod5\n",
    "combine_models('submissions/xgb8_mod6.csv','submissions/xgb8_mod5.csv','submissions/xgb8_mod6+xgb8_mod5.csv')\n",
    "#score: 0.50578"
   ]
  },
  {
   "cell_type": "code",
   "execution_count": 2,
   "metadata": {
    "collapsed": false
   },
   "outputs": [],
   "source": [
    "def combine_models_multi(files, newfile):\n",
    "    f1 = pd.read_csv(files[0])\n",
    "    f = pd.DataFrame(f1,copy=True)\n",
    "    nf = len(files)\n",
    "    for i in range(1,nf):\n",
    "        f1 = pd.read_csv(files[i])\n",
    "        f['predict_0'] += f1['predict_0']\n",
    "        f['predict_1'] += f1['predict_1']\n",
    "        f['predict_2'] += f1['predict_2']\n",
    "    f['predict_0'] /= nf\n",
    "    f['predict_1'] /= nf\n",
    "    f['predict_2'] /= nf\n",
    "    print round(sum(f[['predict_0','predict_1','predict_2']].sum()),0)==f.shape[0]\n",
    "    f.to_csv(newfile,index=False)"
   ]
  },
  {
   "cell_type": "code",
   "execution_count": 7,
   "metadata": {
    "collapsed": false
   },
   "outputs": [],
   "source": [
    "comb = ['submissions/%s.csv'%i for i in ['xgb8_mod5','xgb8_mod6','xgb10_mod7']]\n",
    "combine_models_multi(comb,'submissions/xgb_8mod5+8mod6+10mod7.csv')"
   ]
  },
  {
   "cell_type": "markdown",
   "metadata": {
    "collapsed": true
   },
   "source": [
    "## Final submissions:"
   ]
  },
  {
   "cell_type": "code",
   "execution_count": 4,
   "metadata": {
    "collapsed": false
   },
   "outputs": [
    {
     "name": "stdout",
     "output_type": "stream",
     "text": [
      "True\n"
     ]
    }
   ],
   "source": [
    "final_ensemble = ['submissions/%s_seedcombo.csv'%i for i in ['xgb15_mod11','xgb13_mod11','xgb20_mod10',\n",
    "                                                            'xgb15_mod10','xgb13_mod10','xgb13_mod9']]\n",
    "combine_models_multi(final_ensemble,'submissions/final_ensemble.csv')"
   ]
  },
  {
   "cell_type": "code",
   "execution_count": 7,
   "metadata": {
    "collapsed": false
   },
   "outputs": [
    {
     "data": {
      "text/plain": [
       "['submissions/xgb15_mod11_seedcombo.csv',\n",
       " 'submissions/xgb13_mod11_seedcombo.csv',\n",
       " 'submissions/xgb20_mod10_seedcombo.csv',\n",
       " 'submissions/xgb15_mod10_seedcombo.csv',\n",
       " 'submissions/xgb13_mod10_seedcombo.csv',\n",
       " 'submissions/xgb13_mod9_seedcombo.csv',\n",
       " 'submissions/xgb10_mod7.csv',\n",
       " 'submissions/xgb8_mod6.csv',\n",
       " 'submissions/xgb8_mod5.csv']"
      ]
     },
     "execution_count": 7,
     "metadata": {},
     "output_type": "execute_result"
    }
   ],
   "source": [
    "final_ensemble2 = final_ensemble + ['submissions/%s.csv'%i for i in ['xgb10_mod7','xgb8_mod6','xgb8_mod5']]\n",
    "final_ensemble2"
   ]
  },
  {
   "cell_type": "code",
   "execution_count": 8,
   "metadata": {
    "collapsed": false
   },
   "outputs": [
    {
     "name": "stdout",
     "output_type": "stream",
     "text": [
      "True\n"
     ]
    }
   ],
   "source": [
    "combine_models_multi(final_ensemble2,'submissions/final_ensemble2.csv')"
   ]
  },
  {
   "cell_type": "code",
   "execution_count": null,
   "metadata": {
    "collapsed": true
   },
   "outputs": [],
   "source": []
  }
 ],
 "metadata": {
  "kernelspec": {
   "display_name": "Python 2",
   "language": "python",
   "name": "python2"
  },
  "language_info": {
   "codemirror_mode": {
    "name": "ipython",
    "version": 2
   },
   "file_extension": ".py",
   "mimetype": "text/x-python",
   "name": "python",
   "nbconvert_exporter": "python",
   "pygments_lexer": "ipython2",
   "version": "2.7.11"
  }
 },
 "nbformat": 4,
 "nbformat_minor": 0
}
